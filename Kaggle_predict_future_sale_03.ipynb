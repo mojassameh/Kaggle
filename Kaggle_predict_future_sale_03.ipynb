{
  "nbformat": 4,
  "nbformat_minor": 0,
  "metadata": {
    "colab": {
      "name": "Kaggle_predict_future_sale_03",
      "provenance": [],
      "collapsed_sections": [],
      "machine_shape": "hm",
      "authorship_tag": "ABX9TyM0Hj+ama299P6GSLvDFEnJ",
      "include_colab_link": true
    },
    "kernelspec": {
      "name": "python3",
      "display_name": "Python 3"
    }
  },
  "cells": [
    {
      "cell_type": "markdown",
      "metadata": {
        "id": "view-in-github",
        "colab_type": "text"
      },
      "source": [
        "<a href=\"https://colab.research.google.com/github/mojassameh/Kaggle/blob/master/Kaggle_predict_future_sale_03.ipynb\" target=\"_parent\"><img src=\"https://colab.research.google.com/assets/colab-badge.svg\" alt=\"Open In Colab\"/></a>"
      ]
    },
    {
      "cell_type": "code",
      "metadata": {
        "id": "2COQ3QXjFAMR",
        "colab_type": "code",
        "colab": {
          "base_uri": "https://localhost:8080/",
          "height": 34
        },
        "outputId": "e6b1562c-af44-436e-b611-61d273ab41d5"
      },
      "source": [
        "from google.colab import drive\n",
        "drive.mount('/content/drive')"
      ],
      "execution_count": 92,
      "outputs": [
        {
          "output_type": "stream",
          "text": [
            "Drive already mounted at /content/drive; to attempt to forcibly remount, call drive.mount(\"/content/drive\", force_remount=True).\n"
          ],
          "name": "stdout"
        }
      ]
    },
    {
      "cell_type": "code",
      "metadata": {
        "id": "eKFQoJWpFF1a",
        "colab_type": "code",
        "colab": {}
      },
      "source": [
        "# from zipfile import ZipFile\n",
        "import pandas as pd\n",
        "import numpy as np\n",
        "import random\n",
        "import matplotlib.pyplot as plt\n"
      ],
      "execution_count": 0,
      "outputs": []
    },
    {
      "cell_type": "markdown",
      "metadata": {
        "id": "l97g3zsIFRYF",
        "colab_type": "text"
      },
      "source": [
        "#Reading the data"
      ]
    },
    {
      "cell_type": "code",
      "metadata": {
        "id": "IMZDRsTfFOM0",
        "colab_type": "code",
        "colab": {
          "base_uri": "https://localhost:8080/",
          "height": 204
        },
        "outputId": "cb97104a-bc9e-433f-b004-f07163723d4d"
      },
      "source": [
        "items = pd.read_csv('/content/drive/My Drive/colab/kaggle_future_sale/items.csv')\n",
        "print(items.shape)\n",
        "print(items.isna().sum())\n",
        "print(items.head().T)"
      ],
      "execution_count": 94,
      "outputs": [
        {
          "output_type": "stream",
          "text": [
            "(22170, 3)\n",
            "item_name           0\n",
            "item_id             0\n",
            "item_category_id    0\n",
            "dtype: int64\n",
            "                                                          0  ...                                            4\n",
            "item_name         ! ВО ВЛАСТИ НАВАЖДЕНИЯ (ПЛАСТ.)         D  ...  ***КОРОБКА (СТЕКЛО)                       D\n",
            "item_id                                                   0  ...                                            4\n",
            "item_category_id                                         40  ...                                           40\n",
            "\n",
            "[3 rows x 5 columns]\n"
          ],
          "name": "stdout"
        }
      ]
    },
    {
      "cell_type": "code",
      "metadata": {
        "id": "Mk9MVH31FWBT",
        "colab_type": "code",
        "colab": {
          "base_uri": "https://localhost:8080/",
          "height": 170
        },
        "outputId": "6fa2d294-7b1a-4714-d62c-b7a175edb384"
      },
      "source": [
        "shops = pd.read_csv('/content/drive/My Drive/colab/kaggle_future_sale/shops.csv')\n",
        "print(shops.shape)\n",
        "print(shops.isna().sum())\n",
        "print(shops.head().T)"
      ],
      "execution_count": 95,
      "outputs": [
        {
          "output_type": "stream",
          "text": [
            "(60, 2)\n",
            "shop_name    0\n",
            "shop_id      0\n",
            "dtype: int64\n",
            "                                       0  ...                         4\n",
            "shop_name  !Якутск Орджоникидзе, 56 фран  ...  Волжский ТЦ \"Волга Молл\"\n",
            "shop_id                                0  ...                         4\n",
            "\n",
            "[2 rows x 5 columns]\n"
          ],
          "name": "stdout"
        }
      ]
    },
    {
      "cell_type": "code",
      "metadata": {
        "id": "6A3xGaUpF6mB",
        "colab_type": "code",
        "colab": {
          "base_uri": "https://localhost:8080/",
          "height": 170
        },
        "outputId": "7596c4f5-786d-4d5c-f184-428538cac911"
      },
      "source": [
        "items_cat = pd.read_csv('/content/drive/My Drive/colab/kaggle_future_sale/item_categories.csv')\n",
        "print(items_cat.shape)\n",
        "print(items_cat.isna().sum())\n",
        "print(items_cat.head().T)"
      ],
      "execution_count": 96,
      "outputs": [
        {
          "output_type": "stream",
          "text": [
            "(84, 2)\n",
            "item_category_name    0\n",
            "item_category_id      0\n",
            "dtype: int64\n",
            "                                          0  ...                 4\n",
            "item_category_name  PC - Гарнитуры/Наушники  ...  Аксессуары - PSP\n",
            "item_category_id                          0  ...                 4\n",
            "\n",
            "[2 rows x 5 columns]\n"
          ],
          "name": "stdout"
        }
      ]
    },
    {
      "cell_type": "code",
      "metadata": {
        "id": "uu1pCvs5GMcz",
        "colab_type": "code",
        "colab": {
          "base_uri": "https://localhost:8080/",
          "height": 272
        },
        "outputId": "6219290b-ae79-4c5d-e46c-97b81789f2da"
      },
      "source": [
        "sales_train = pd.read_csv('/content/drive/My Drive/colab/kaggle_future_sale/sales_train.csv')\n",
        "print(sales_train.shape)\n",
        "print(sales_train.isna().sum())\n",
        "print(sales_train.head().T)"
      ],
      "execution_count": 97,
      "outputs": [
        {
          "output_type": "stream",
          "text": [
            "(2935849, 6)\n",
            "date              0\n",
            "date_block_num    0\n",
            "shop_id           0\n",
            "item_id           0\n",
            "item_price        0\n",
            "item_cnt_day      0\n",
            "dtype: int64\n",
            "                         0           1           2           3           4\n",
            "date            02.01.2013  03.01.2013  05.01.2013  06.01.2013  15.01.2013\n",
            "date_block_num           0           0           0           0           0\n",
            "shop_id                 59          25          25          25          25\n",
            "item_id              22154        2552        2552        2554        2555\n",
            "item_price             999         899         899     1709.05        1099\n",
            "item_cnt_day             1           1          -1           1           1\n"
          ],
          "name": "stdout"
        }
      ]
    },
    {
      "cell_type": "code",
      "metadata": {
        "id": "dceYsL1WMvD2",
        "colab_type": "code",
        "colab": {
          "base_uri": "https://localhost:8080/",
          "height": 170
        },
        "outputId": "5b553e56-79d0-4371-fd3e-0de81ad61904"
      },
      "source": [
        "test = pd.read_csv('/content/drive/My Drive/colab/kaggle_future_sale/test.csv')\n",
        "print(test.shape)\n",
        "print(test.isna().sum())\n",
        "print(test.head().T)"
      ],
      "execution_count": 98,
      "outputs": [
        {
          "output_type": "stream",
          "text": [
            "(214200, 3)\n",
            "ID         0\n",
            "shop_id    0\n",
            "item_id    0\n",
            "dtype: int64\n",
            "            0     1     2     3     4\n",
            "ID          0     1     2     3     4\n",
            "shop_id     5     5     5     5     5\n",
            "item_id  5037  5320  5233  5232  5268\n"
          ],
          "name": "stdout"
        }
      ]
    },
    {
      "cell_type": "code",
      "metadata": {
        "id": "0XQVX74-n9RV",
        "colab_type": "code",
        "colab": {
          "base_uri": "https://localhost:8080/",
          "height": 136
        },
        "outputId": "ca6eb806-fa3f-44ee-d5d8-800284bdc905"
      },
      "source": [
        "submission = pd.read_csv('/content/drive/My Drive/colab/kaggle_future_sale/sample_submission.csv')\n",
        "print(submission.shape)\n",
        "print(submission.isna().sum())\n",
        "print(submission.head().T)"
      ],
      "execution_count": 187,
      "outputs": [
        {
          "output_type": "stream",
          "text": [
            "(214200, 2)\n",
            "ID                0\n",
            "item_cnt_month    0\n",
            "dtype: int64\n",
            "                  0    1    2    3    4\n",
            "ID              0.0  1.0  2.0  3.0  4.0\n",
            "item_cnt_month  0.5  0.5  0.5  0.5  0.5\n"
          ],
          "name": "stdout"
        }
      ]
    },
    {
      "cell_type": "markdown",
      "metadata": {
        "id": "q0PQEqmCLv5y",
        "colab_type": "text"
      },
      "source": [
        "# Outliers removal"
      ]
    },
    {
      "cell_type": "code",
      "metadata": {
        "id": "z81fMwgWHXdP",
        "colab_type": "code",
        "colab": {
          "base_uri": "https://localhost:8080/",
          "height": 400
        },
        "outputId": "0872b1bf-69a5-4a01-da16-a184ceebf363"
      },
      "source": [
        "sales_train.hist()"
      ],
      "execution_count": 100,
      "outputs": [
        {
          "output_type": "execute_result",
          "data": {
            "text/plain": [
              "array([[<matplotlib.axes._subplots.AxesSubplot object at 0x7fa1dc6f1a58>,\n",
              "        <matplotlib.axes._subplots.AxesSubplot object at 0x7fa18de15ef0>],\n",
              "       [<matplotlib.axes._subplots.AxesSubplot object at 0x7fa18cf6fd30>,\n",
              "        <matplotlib.axes._subplots.AxesSubplot object at 0x7fa18d90ad68>],\n",
              "       [<matplotlib.axes._subplots.AxesSubplot object at 0x7fa18d817358>,\n",
              "        <matplotlib.axes._subplots.AxesSubplot object at 0x7fa18d4d19b0>]],\n",
              "      dtype=object)"
            ]
          },
          "metadata": {
            "tags": []
          },
          "execution_count": 100
        },
        {
          "output_type": "display_data",
          "data": {
            "image/png": "[encoded data removed]",
            "text/plain": [
              "<Figure size 432x288 with 6 Axes>"
            ]
          },
          "metadata": {
            "tags": [],
            "needs_background": "light"
          }
        }
      ]
    },
    {
      "cell_type": "code",
      "metadata": {
        "id": "rCBiLFesHcf5",
        "colab_type": "code",
        "colab": {}
      },
      "source": [
        "min_sales= sales_train[sales_train['item_cnt_day']<0].index"
      ],
      "execution_count": 0,
      "outputs": []
    },
    {
      "cell_type": "code",
      "metadata": {
        "id": "PAdsUGuWJZ7h",
        "colab_type": "code",
        "colab": {}
      },
      "source": [
        "sales_train.drop(min_sales,axis=0,inplace=True)"
      ],
      "execution_count": 0,
      "outputs": []
    },
    {
      "cell_type": "code",
      "metadata": {
        "id": "1xuh1ui8JpYI",
        "colab_type": "code",
        "colab": {}
      },
      "source": [
        "max_sales = sales_train[sales_train['item_cnt_day']>20].index"
      ],
      "execution_count": 0,
      "outputs": []
    },
    {
      "cell_type": "code",
      "metadata": {
        "id": "BhXJ4Wv1KlRI",
        "colab_type": "code",
        "colab": {}
      },
      "source": [
        "sales_train.drop(max_sales,axis=0,inplace=True)"
      ],
      "execution_count": 0,
      "outputs": []
    },
    {
      "cell_type": "code",
      "metadata": {
        "id": "BaJuOIpwJr35",
        "colab_type": "code",
        "colab": {
          "base_uri": "https://localhost:8080/",
          "height": 283
        },
        "outputId": "ff39ddea-01d8-4e34-ed7f-8e4279c3f221"
      },
      "source": [
        "sales_train['item_cnt_day'].plot.box()"
      ],
      "execution_count": 105,
      "outputs": [
        {
          "output_type": "execute_result",
          "data": {
            "text/plain": [
              "<matplotlib.axes._subplots.AxesSubplot at 0x7fa18d978748>"
            ]
          },
          "metadata": {
            "tags": []
          },
          "execution_count": 105
        },
        {
          "output_type": "display_data",
          "data": {
            "image/png": "[encoded data removed]",
            "text/plain": [
              "<Figure size 432x288 with 1 Axes>"
            ]
          },
          "metadata": {
            "tags": [],
            "needs_background": "light"
          }
        }
      ]
    },
    {
      "cell_type": "code",
      "metadata": {
        "id": "WNOy87ZXJ0mQ",
        "colab_type": "code",
        "colab": {
          "base_uri": "https://localhost:8080/",
          "height": 283
        },
        "outputId": "8b535900-9b30-4dcc-adb0-5e8960ca56c8"
      },
      "source": [
        "sales_train['item_price'].plot.box()"
      ],
      "execution_count": 106,
      "outputs": [
        {
          "output_type": "execute_result",
          "data": {
            "text/plain": [
              "<matplotlib.axes._subplots.AxesSubplot at 0x7fa18da306a0>"
            ]
          },
          "metadata": {
            "tags": []
          },
          "execution_count": 106
        },
        {
          "output_type": "display_data",
          "data": {
            "image/png": "[encoded data removed]",
            "text/plain": [
              "<Figure size 432x288 with 1 Axes>"
            ]
          },
          "metadata": {
            "tags": [],
            "needs_background": "light"
          }
        }
      ]
    },
    {
      "cell_type": "code",
      "metadata": {
        "id": "ok-_aMEDKxzA",
        "colab_type": "code",
        "colab": {
          "base_uri": "https://localhost:8080/",
          "height": 34
        },
        "outputId": "219279f9-dacd-4be6-d059-655615ac9c35"
      },
      "source": [
        "min_price= sales_train[sales_train['item_price']<=0].index\n",
        "print(len(min_price))"
      ],
      "execution_count": 107,
      "outputs": [
        {
          "output_type": "stream",
          "text": [
            "1\n"
          ],
          "name": "stdout"
        }
      ]
    },
    {
      "cell_type": "code",
      "metadata": {
        "id": "C8RllKv1K5j2",
        "colab_type": "code",
        "colab": {}
      },
      "source": [
        "sales_train.drop(min_price,axis=0,inplace=True)"
      ],
      "execution_count": 0,
      "outputs": []
    },
    {
      "cell_type": "code",
      "metadata": {
        "id": "vd56PCnOLDnW",
        "colab_type": "code",
        "colab": {
          "base_uri": "https://localhost:8080/",
          "height": 34
        },
        "outputId": "581ef83b-a1ef-4e71-98fd-f798a98190e2"
      },
      "source": [
        "max_price=sales_train[sales_train['item_price']>3000].index\n",
        "print(len(max_price))"
      ],
      "execution_count": 109,
      "outputs": [
        {
          "output_type": "stream",
          "text": [
            "90037\n"
          ],
          "name": "stdout"
        }
      ]
    },
    {
      "cell_type": "code",
      "metadata": {
        "id": "iEqFbc2nLPh-",
        "colab_type": "code",
        "colab": {}
      },
      "source": [
        "sales_train.drop(max_price,axis=0,inplace=True)"
      ],
      "execution_count": 0,
      "outputs": []
    },
    {
      "cell_type": "code",
      "metadata": {
        "id": "qt8AL9pmLgFj",
        "colab_type": "code",
        "colab": {
          "base_uri": "https://localhost:8080/",
          "height": 34
        },
        "outputId": "92d3f936-e1f5-440e-cdea-d03518759a14"
      },
      "source": [
        "sales_train.shape"
      ],
      "execution_count": 111,
      "outputs": [
        {
          "output_type": "execute_result",
          "data": {
            "text/plain": [
              "(2835041, 6)"
            ]
          },
          "metadata": {
            "tags": []
          },
          "execution_count": 111
        }
      ]
    },
    {
      "cell_type": "code",
      "metadata": {
        "id": "wAtUY-jwLh8z",
        "colab_type": "code",
        "colab": {
          "base_uri": "https://localhost:8080/",
          "height": 283
        },
        "outputId": "0f7d702a-e455-490a-f5c5-464e75179849"
      },
      "source": [
        "sales_train['item_price'].plot.box()"
      ],
      "execution_count": 112,
      "outputs": [
        {
          "output_type": "execute_result",
          "data": {
            "text/plain": [
              "<matplotlib.axes._subplots.AxesSubplot at 0x7fa18dc9d1d0>"
            ]
          },
          "metadata": {
            "tags": []
          },
          "execution_count": 112
        },
        {
          "output_type": "display_data",
          "data": {
            "image/png": "[encoded data removed]",
            "text/plain": [
              "<Figure size 432x288 with 1 Axes>"
            ]
          },
          "metadata": {
            "tags": [],
            "needs_background": "light"
          }
        }
      ]
    },
    {
      "cell_type": "markdown",
      "metadata": {
        "id": "dpGruUCVL7cZ",
        "colab_type": "text"
      },
      "source": [
        "# Data aggregation"
      ]
    },
    {
      "cell_type": "code",
      "metadata": {
        "id": "jGgFcFjjLoyT",
        "colab_type": "code",
        "colab": {
          "base_uri": "https://localhost:8080/",
          "height": 238
        },
        "outputId": "f373d940-b025-486e-8bcf-53e26a563583"
      },
      "source": [
        "sales_train_month=sales_train.groupby(['date_block_num','shop_id','item_id'],as_index=False).agg({'item_price':['mean'],'item_cnt_day':['sum']})\n",
        "sales_train_month.columns =['date_block_num','shop_id','item_id','item_price_mean','item_count_month']\n",
        "print(sales_train_month.shape)\n",
        "print(sales_train_month.isna().sum())\n",
        "print(sales_train_month.head())"
      ],
      "execution_count": 113,
      "outputs": [
        {
          "output_type": "stream",
          "text": [
            "(1565778, 5)\n",
            "date_block_num      0\n",
            "shop_id             0\n",
            "item_id             0\n",
            "item_price_mean     0\n",
            "item_count_month    0\n",
            "dtype: int64\n",
            "   date_block_num  shop_id  item_id  item_price_mean  item_count_month\n",
            "0               0        0       32            221.0               6.0\n",
            "1               0        0       33            347.0               3.0\n",
            "2               0        0       35            247.0               1.0\n",
            "3               0        0       43            221.0               1.0\n",
            "4               0        0       51            128.5               2.0\n"
          ],
          "name": "stdout"
        }
      ]
    },
    {
      "cell_type": "code",
      "metadata": {
        "id": "t9G0Fl_kMrzU",
        "colab_type": "code",
        "colab": {
          "base_uri": "https://localhost:8080/",
          "height": 34
        },
        "outputId": "f0bbe90e-363c-409d-c638-3fc8e31a7ff9"
      },
      "source": [
        "sales_train_month['item_count_month'].mean()"
      ],
      "execution_count": 114,
      "outputs": [
        {
          "output_type": "execute_result",
          "data": {
            "text/plain": [
              "2.1691114576906814"
            ]
          },
          "metadata": {
            "tags": []
          },
          "execution_count": 114
        }
      ]
    },
    {
      "cell_type": "code",
      "metadata": {
        "id": "hA0o67wLNN2H",
        "colab_type": "code",
        "colab": {
          "base_uri": "https://localhost:8080/",
          "height": 204
        },
        "outputId": "9657eb4f-ca1e-43db-942a-33e62433a211"
      },
      "source": [
        "test['date_block_num']=34\n",
        "test.head()"
      ],
      "execution_count": 115,
      "outputs": [
        {
          "output_type": "execute_result",
          "data": {
            "text/html": [
              "<div>\n",
              "<style scoped>\n",
              "    .dataframe tbody tr th:only-of-type {\n",
              "        vertical-align: middle;\n",
              "    }\n",
              "\n",
              "    .dataframe tbody tr th {\n",
              "        vertical-align: top;\n",
              "    }\n",
              "\n",
              "    .dataframe thead th {\n",
              "        text-align: right;\n",
              "    }\n",
              "</style>\n",
              "<table border=\"1\" class=\"dataframe\">\n",
              "  <thead>\n",
              "    <tr style=\"text-align: right;\">\n",
              "      <th></th>\n",
              "      <th>ID</th>\n",
              "      <th>shop_id</th>\n",
              "      <th>item_id</th>\n",
              "      <th>date_block_num</th>\n",
              "    </tr>\n",
              "  </thead>\n",
              "  <tbody>\n",
              "    <tr>\n",
              "      <th>0</th>\n",
              "      <td>0</td>\n",
              "      <td>5</td>\n",
              "      <td>5037</td>\n",
              "      <td>34</td>\n",
              "    </tr>\n",
              "    <tr>\n",
              "      <th>1</th>\n",
              "      <td>1</td>\n",
              "      <td>5</td>\n",
              "      <td>5320</td>\n",
              "      <td>34</td>\n",
              "    </tr>\n",
              "    <tr>\n",
              "      <th>2</th>\n",
              "      <td>2</td>\n",
              "      <td>5</td>\n",
              "      <td>5233</td>\n",
              "      <td>34</td>\n",
              "    </tr>\n",
              "    <tr>\n",
              "      <th>3</th>\n",
              "      <td>3</td>\n",
              "      <td>5</td>\n",
              "      <td>5232</td>\n",
              "      <td>34</td>\n",
              "    </tr>\n",
              "    <tr>\n",
              "      <th>4</th>\n",
              "      <td>4</td>\n",
              "      <td>5</td>\n",
              "      <td>5268</td>\n",
              "      <td>34</td>\n",
              "    </tr>\n",
              "  </tbody>\n",
              "</table>\n",
              "</div>"
            ],
            "text/plain": [
              "   ID  shop_id  item_id  date_block_num\n",
              "0   0        5     5037              34\n",
              "1   1        5     5320              34\n",
              "2   2        5     5233              34\n",
              "3   3        5     5232              34\n",
              "4   4        5     5268              34"
            ]
          },
          "metadata": {
            "tags": []
          },
          "execution_count": 115
        }
      ]
    },
    {
      "cell_type": "code",
      "metadata": {
        "id": "iJ899kcaNSkW",
        "colab_type": "code",
        "colab": {}
      },
      "source": [
        "# pd.DataFrame(test['item_id']).merge(sales_train_month[['item_id','item_price_mean']].groupby(['item_id'],as_index=False).agg({'item_price_mean':['mean']}),how='left',on=['item_id'])"
      ],
      "execution_count": 0,
      "outputs": []
    },
    {
      "cell_type": "code",
      "metadata": {
        "id": "pTfEA5p_PPYj",
        "colab_type": "code",
        "colab": {}
      },
      "source": [
        "# test['item_price_mean'] = np.nan\n",
        "# df_left = pd.DataFrame(test['item_id'])\n",
        "# df_right = sales_train_month[['item_id','item_price_mean']].groupby(['item_id'],as_index=False).agg({'item_price_mean':['mean']})\n",
        "# df_right.columns=['item_id','item_price_mean']\n",
        "# test['item_price_mean'] =df_left.merge(df_right,on=['item_id'],how='left')['item_price_mean']"
      ],
      "execution_count": 0,
      "outputs": []
    },
    {
      "cell_type": "code",
      "metadata": {
        "id": "aKwRiP3kQXoO",
        "colab_type": "code",
        "colab": {}
      },
      "source": [
        "# test['item_price_mean'].isna().sum()\n",
        "# test['item_price_mean'].fillna(test['item_price_mean'].median(),inplace=True)"
      ],
      "execution_count": 0,
      "outputs": []
    },
    {
      "cell_type": "code",
      "metadata": {
        "id": "WU3eWwRsRVu7",
        "colab_type": "code",
        "colab": {}
      },
      "source": [
        "# test['item_price_mean'].isna().sum()"
      ],
      "execution_count": 0,
      "outputs": []
    },
    {
      "cell_type": "code",
      "metadata": {
        "id": "tNz8fjiQtw_i",
        "colab_type": "code",
        "colab": {}
      },
      "source": [
        "# from google.colab import files\n",
        "# submission.to_csv('submission_108.csv',sep=',',index=False) \n",
        "# files.download('submission_108.csv')"
      ],
      "execution_count": 0,
      "outputs": []
    },
    {
      "cell_type": "code",
      "metadata": {
        "id": "aVoCaS1Vt4Rv",
        "colab_type": "code",
        "colab": {
          "base_uri": "https://localhost:8080/",
          "height": 204
        },
        "outputId": "e755d2d4-69ba-4a63-8c71-59726f6e58ea"
      },
      "source": [
        "sales_train_month.head().T"
      ],
      "execution_count": 121,
      "outputs": [
        {
          "output_type": "execute_result",
          "data": {
            "text/html": [
              "<div>\n",
              "<style scoped>\n",
              "    .dataframe tbody tr th:only-of-type {\n",
              "        vertical-align: middle;\n",
              "    }\n",
              "\n",
              "    .dataframe tbody tr th {\n",
              "        vertical-align: top;\n",
              "    }\n",
              "\n",
              "    .dataframe thead th {\n",
              "        text-align: right;\n",
              "    }\n",
              "</style>\n",
              "<table border=\"1\" class=\"dataframe\">\n",
              "  <thead>\n",
              "    <tr style=\"text-align: right;\">\n",
              "      <th></th>\n",
              "      <th>0</th>\n",
              "      <th>1</th>\n",
              "      <th>2</th>\n",
              "      <th>3</th>\n",
              "      <th>4</th>\n",
              "    </tr>\n",
              "  </thead>\n",
              "  <tbody>\n",
              "    <tr>\n",
              "      <th>date_block_num</th>\n",
              "      <td>0.0</td>\n",
              "      <td>0.0</td>\n",
              "      <td>0.0</td>\n",
              "      <td>0.0</td>\n",
              "      <td>0.0</td>\n",
              "    </tr>\n",
              "    <tr>\n",
              "      <th>shop_id</th>\n",
              "      <td>0.0</td>\n",
              "      <td>0.0</td>\n",
              "      <td>0.0</td>\n",
              "      <td>0.0</td>\n",
              "      <td>0.0</td>\n",
              "    </tr>\n",
              "    <tr>\n",
              "      <th>item_id</th>\n",
              "      <td>32.0</td>\n",
              "      <td>33.0</td>\n",
              "      <td>35.0</td>\n",
              "      <td>43.0</td>\n",
              "      <td>51.0</td>\n",
              "    </tr>\n",
              "    <tr>\n",
              "      <th>item_price_mean</th>\n",
              "      <td>221.0</td>\n",
              "      <td>347.0</td>\n",
              "      <td>247.0</td>\n",
              "      <td>221.0</td>\n",
              "      <td>128.5</td>\n",
              "    </tr>\n",
              "    <tr>\n",
              "      <th>item_count_month</th>\n",
              "      <td>6.0</td>\n",
              "      <td>3.0</td>\n",
              "      <td>1.0</td>\n",
              "      <td>1.0</td>\n",
              "      <td>2.0</td>\n",
              "    </tr>\n",
              "  </tbody>\n",
              "</table>\n",
              "</div>"
            ],
            "text/plain": [
              "                      0      1      2      3      4\n",
              "date_block_num      0.0    0.0    0.0    0.0    0.0\n",
              "shop_id             0.0    0.0    0.0    0.0    0.0\n",
              "item_id            32.0   33.0   35.0   43.0   51.0\n",
              "item_price_mean   221.0  347.0  247.0  221.0  128.5\n",
              "item_count_month    6.0    3.0    1.0    1.0    2.0"
            ]
          },
          "metadata": {
            "tags": []
          },
          "execution_count": 121
        }
      ]
    },
    {
      "cell_type": "code",
      "metadata": {
        "id": "kPN9PLw3izPD",
        "colab_type": "code",
        "colab": {
          "base_uri": "https://localhost:8080/",
          "height": 1000
        },
        "outputId": "96a952cb-2763-4af6-f2b6-32b698df80e0"
      },
      "source": [
        "sales_train_month_copy = sales_train_month.copy() # a copy of our df\n",
        "sales_train_month_copy['date_block_num']=(sales_train_month_copy['date_block_num'] %12)+1 # translate to the natural 12 months\n",
        "fig, ax = plt.subplots(sharex=False,sharey=True,figsize=(20,30),ncols=2,nrows=6) #subplottinh\n",
        "counter =0\n",
        "for i in range(6):\n",
        "  for j in range(2):\n",
        "    tmp_df = sales_train_month_copy.groupby(['date_block_num','shop_id'],as_index=False).agg({'item_count_month':['sum']})\n",
        "    tmp_df.columns=['date_block_num','shop_id','item_count_month']\n",
        "    tmp_df =tmp_df.query('shop_id >= '+str(counter)+ ' and shop_id <'+str(counter+5))\n",
        "    counter += 5\n",
        "    tmp_df_pv =tmp_df.pivot(index='date_block_num',values='item_count_month',columns='shop_id')\n",
        "    tmp_df_pv.fillna(0,inplace=True)\n",
        "    tmp_df_pv.plot(ax=ax[i][j])"
      ],
      "execution_count": 122,
      "outputs": [
        {
          "output_type": "display_data",
          "data": {
            "image/png": "[encoded data removed]",
            "text/plain": [
              "<Figure size 1440x2160 with 12 Axes>"
            ]
          },
          "metadata": {
            "tags": [],
            "needs_background": "light"
          }
        }
      ]
    },
    {
      "cell_type": "code",
      "metadata": {
        "id": "IoZ8vu_yjdjx",
        "colab_type": "code",
        "colab": {}
      },
      "source": [
        "sales_train_month['month']=(sales_train_month['date_block_num']%12)+1"
      ],
      "execution_count": 0,
      "outputs": []
    },
    {
      "cell_type": "code",
      "metadata": {
        "id": "kQ16FmN3k5jg",
        "colab_type": "code",
        "colab": {
          "base_uri": "https://localhost:8080/",
          "height": 142
        },
        "outputId": "7cb2d715-00da-44d6-cc3f-2faf1fe097bb"
      },
      "source": [
        "tmp_df= sales_train_month.groupby(['shop_id','month'],as_index=False).agg({'item_count_month':['sum']})\n",
        "tmp_df.columns=['shop_id','month','sum_sales_month_shop']\n",
        "tmp_df.head().T"
      ],
      "execution_count": 124,
      "outputs": [
        {
          "output_type": "execute_result",
          "data": {
            "text/html": [
              "<div>\n",
              "<style scoped>\n",
              "    .dataframe tbody tr th:only-of-type {\n",
              "        vertical-align: middle;\n",
              "    }\n",
              "\n",
              "    .dataframe tbody tr th {\n",
              "        vertical-align: top;\n",
              "    }\n",
              "\n",
              "    .dataframe thead th {\n",
              "        text-align: right;\n",
              "    }\n",
              "</style>\n",
              "<table border=\"1\" class=\"dataframe\">\n",
              "  <thead>\n",
              "    <tr style=\"text-align: right;\">\n",
              "      <th></th>\n",
              "      <th>0</th>\n",
              "      <th>1</th>\n",
              "      <th>2</th>\n",
              "      <th>3</th>\n",
              "      <th>4</th>\n",
              "    </tr>\n",
              "  </thead>\n",
              "  <tbody>\n",
              "    <tr>\n",
              "      <th>shop_id</th>\n",
              "      <td>0.0</td>\n",
              "      <td>0.0</td>\n",
              "      <td>1.0</td>\n",
              "      <td>1.0</td>\n",
              "      <td>2.0</td>\n",
              "    </tr>\n",
              "    <tr>\n",
              "      <th>month</th>\n",
              "      <td>1.0</td>\n",
              "      <td>2.0</td>\n",
              "      <td>1.0</td>\n",
              "      <td>2.0</td>\n",
              "      <td>1.0</td>\n",
              "    </tr>\n",
              "    <tr>\n",
              "      <th>sum_sales_month_shop</th>\n",
              "      <td>5511.0</td>\n",
              "      <td>6041.0</td>\n",
              "      <td>2919.0</td>\n",
              "      <td>3325.0</td>\n",
              "      <td>2894.0</td>\n",
              "    </tr>\n",
              "  </tbody>\n",
              "</table>\n",
              "</div>"
            ],
            "text/plain": [
              "                           0       1       2       3       4\n",
              "shop_id                  0.0     0.0     1.0     1.0     2.0\n",
              "month                    1.0     2.0     1.0     2.0     1.0\n",
              "sum_sales_month_shop  5511.0  6041.0  2919.0  3325.0  2894.0"
            ]
          },
          "metadata": {
            "tags": []
          },
          "execution_count": 124
        }
      ]
    },
    {
      "cell_type": "code",
      "metadata": {
        "id": "Cfx5x8P5vkOK",
        "colab_type": "code",
        "colab": {
          "base_uri": "https://localhost:8080/",
          "height": 266
        },
        "outputId": "9057eb6b-7761-4f54-f2ce-0e12ccff6fc6"
      },
      "source": [
        "sales_train_month =sales_train_month.merge(tmp_df,how='left')\n",
        "sales_train_month.head().T"
      ],
      "execution_count": 125,
      "outputs": [
        {
          "output_type": "execute_result",
          "data": {
            "text/html": [
              "<div>\n",
              "<style scoped>\n",
              "    .dataframe tbody tr th:only-of-type {\n",
              "        vertical-align: middle;\n",
              "    }\n",
              "\n",
              "    .dataframe tbody tr th {\n",
              "        vertical-align: top;\n",
              "    }\n",
              "\n",
              "    .dataframe thead th {\n",
              "        text-align: right;\n",
              "    }\n",
              "</style>\n",
              "<table border=\"1\" class=\"dataframe\">\n",
              "  <thead>\n",
              "    <tr style=\"text-align: right;\">\n",
              "      <th></th>\n",
              "      <th>0</th>\n",
              "      <th>1</th>\n",
              "      <th>2</th>\n",
              "      <th>3</th>\n",
              "      <th>4</th>\n",
              "    </tr>\n",
              "  </thead>\n",
              "  <tbody>\n",
              "    <tr>\n",
              "      <th>date_block_num</th>\n",
              "      <td>0.0</td>\n",
              "      <td>0.0</td>\n",
              "      <td>0.0</td>\n",
              "      <td>0.0</td>\n",
              "      <td>0.0</td>\n",
              "    </tr>\n",
              "    <tr>\n",
              "      <th>shop_id</th>\n",
              "      <td>0.0</td>\n",
              "      <td>0.0</td>\n",
              "      <td>0.0</td>\n",
              "      <td>0.0</td>\n",
              "      <td>0.0</td>\n",
              "    </tr>\n",
              "    <tr>\n",
              "      <th>item_id</th>\n",
              "      <td>32.0</td>\n",
              "      <td>33.0</td>\n",
              "      <td>35.0</td>\n",
              "      <td>43.0</td>\n",
              "      <td>51.0</td>\n",
              "    </tr>\n",
              "    <tr>\n",
              "      <th>item_price_mean</th>\n",
              "      <td>221.0</td>\n",
              "      <td>347.0</td>\n",
              "      <td>247.0</td>\n",
              "      <td>221.0</td>\n",
              "      <td>128.5</td>\n",
              "    </tr>\n",
              "    <tr>\n",
              "      <th>item_count_month</th>\n",
              "      <td>6.0</td>\n",
              "      <td>3.0</td>\n",
              "      <td>1.0</td>\n",
              "      <td>1.0</td>\n",
              "      <td>2.0</td>\n",
              "    </tr>\n",
              "    <tr>\n",
              "      <th>month</th>\n",
              "      <td>1.0</td>\n",
              "      <td>1.0</td>\n",
              "      <td>1.0</td>\n",
              "      <td>1.0</td>\n",
              "      <td>1.0</td>\n",
              "    </tr>\n",
              "    <tr>\n",
              "      <th>sum_sales_month_shop</th>\n",
              "      <td>5511.0</td>\n",
              "      <td>5511.0</td>\n",
              "      <td>5511.0</td>\n",
              "      <td>5511.0</td>\n",
              "      <td>5511.0</td>\n",
              "    </tr>\n",
              "  </tbody>\n",
              "</table>\n",
              "</div>"
            ],
            "text/plain": [
              "                           0       1       2       3       4\n",
              "date_block_num           0.0     0.0     0.0     0.0     0.0\n",
              "shop_id                  0.0     0.0     0.0     0.0     0.0\n",
              "item_id                 32.0    33.0    35.0    43.0    51.0\n",
              "item_price_mean        221.0   347.0   247.0   221.0   128.5\n",
              "item_count_month         6.0     3.0     1.0     1.0     2.0\n",
              "month                    1.0     1.0     1.0     1.0     1.0\n",
              "sum_sales_month_shop  5511.0  5511.0  5511.0  5511.0  5511.0"
            ]
          },
          "metadata": {
            "tags": []
          },
          "execution_count": 125
        }
      ]
    },
    {
      "cell_type": "code",
      "metadata": {
        "id": "QmLj8B2xv_iO",
        "colab_type": "code",
        "colab": {
          "base_uri": "https://localhost:8080/",
          "height": 34
        },
        "outputId": "f175472e-d1d6-4a56-df96-ce0be461ebbd"
      },
      "source": [
        "sales_train_month.shape"
      ],
      "execution_count": 126,
      "outputs": [
        {
          "output_type": "execute_result",
          "data": {
            "text/plain": [
              "(1565778, 7)"
            ]
          },
          "metadata": {
            "tags": []
          },
          "execution_count": 126
        }
      ]
    },
    {
      "cell_type": "markdown",
      "metadata": {
        "id": "pCOM9rGfxDI8",
        "colab_type": "text"
      },
      "source": [
        "## Adding category data"
      ]
    },
    {
      "cell_type": "code",
      "metadata": {
        "id": "N7xJSiYKwEGA",
        "colab_type": "code",
        "colab": {}
      },
      "source": [
        "sales_train_month = sales_train_month.merge(right=items.drop(['item_name'],axis=1).drop_duplicates(),how='left')"
      ],
      "execution_count": 0,
      "outputs": []
    },
    {
      "cell_type": "code",
      "metadata": {
        "id": "PJNTJQ5mwmFb",
        "colab_type": "code",
        "colab": {
          "base_uri": "https://localhost:8080/",
          "height": 297
        },
        "outputId": "ef5748b0-dfbb-45bc-9b93-1e7f6263fec2"
      },
      "source": [
        "sales_train_month.head().T"
      ],
      "execution_count": 128,
      "outputs": [
        {
          "output_type": "execute_result",
          "data": {
            "text/html": [
              "<div>\n",
              "<style scoped>\n",
              "    .dataframe tbody tr th:only-of-type {\n",
              "        vertical-align: middle;\n",
              "    }\n",
              "\n",
              "    .dataframe tbody tr th {\n",
              "        vertical-align: top;\n",
              "    }\n",
              "\n",
              "    .dataframe thead th {\n",
              "        text-align: right;\n",
              "    }\n",
              "</style>\n",
              "<table border=\"1\" class=\"dataframe\">\n",
              "  <thead>\n",
              "    <tr style=\"text-align: right;\">\n",
              "      <th></th>\n",
              "      <th>0</th>\n",
              "      <th>1</th>\n",
              "      <th>2</th>\n",
              "      <th>3</th>\n",
              "      <th>4</th>\n",
              "    </tr>\n",
              "  </thead>\n",
              "  <tbody>\n",
              "    <tr>\n",
              "      <th>date_block_num</th>\n",
              "      <td>0.0</td>\n",
              "      <td>0.0</td>\n",
              "      <td>0.0</td>\n",
              "      <td>0.0</td>\n",
              "      <td>0.0</td>\n",
              "    </tr>\n",
              "    <tr>\n",
              "      <th>shop_id</th>\n",
              "      <td>0.0</td>\n",
              "      <td>0.0</td>\n",
              "      <td>0.0</td>\n",
              "      <td>0.0</td>\n",
              "      <td>0.0</td>\n",
              "    </tr>\n",
              "    <tr>\n",
              "      <th>item_id</th>\n",
              "      <td>32.0</td>\n",
              "      <td>33.0</td>\n",
              "      <td>35.0</td>\n",
              "      <td>43.0</td>\n",
              "      <td>51.0</td>\n",
              "    </tr>\n",
              "    <tr>\n",
              "      <th>item_price_mean</th>\n",
              "      <td>221.0</td>\n",
              "      <td>347.0</td>\n",
              "      <td>247.0</td>\n",
              "      <td>221.0</td>\n",
              "      <td>128.5</td>\n",
              "    </tr>\n",
              "    <tr>\n",
              "      <th>item_count_month</th>\n",
              "      <td>6.0</td>\n",
              "      <td>3.0</td>\n",
              "      <td>1.0</td>\n",
              "      <td>1.0</td>\n",
              "      <td>2.0</td>\n",
              "    </tr>\n",
              "    <tr>\n",
              "      <th>month</th>\n",
              "      <td>1.0</td>\n",
              "      <td>1.0</td>\n",
              "      <td>1.0</td>\n",
              "      <td>1.0</td>\n",
              "      <td>1.0</td>\n",
              "    </tr>\n",
              "    <tr>\n",
              "      <th>sum_sales_month_shop</th>\n",
              "      <td>5511.0</td>\n",
              "      <td>5511.0</td>\n",
              "      <td>5511.0</td>\n",
              "      <td>5511.0</td>\n",
              "      <td>5511.0</td>\n",
              "    </tr>\n",
              "    <tr>\n",
              "      <th>item_category_id</th>\n",
              "      <td>40.0</td>\n",
              "      <td>37.0</td>\n",
              "      <td>40.0</td>\n",
              "      <td>40.0</td>\n",
              "      <td>57.0</td>\n",
              "    </tr>\n",
              "  </tbody>\n",
              "</table>\n",
              "</div>"
            ],
            "text/plain": [
              "                           0       1       2       3       4\n",
              "date_block_num           0.0     0.0     0.0     0.0     0.0\n",
              "shop_id                  0.0     0.0     0.0     0.0     0.0\n",
              "item_id                 32.0    33.0    35.0    43.0    51.0\n",
              "item_price_mean        221.0   347.0   247.0   221.0   128.5\n",
              "item_count_month         6.0     3.0     1.0     1.0     2.0\n",
              "month                    1.0     1.0     1.0     1.0     1.0\n",
              "sum_sales_month_shop  5511.0  5511.0  5511.0  5511.0  5511.0\n",
              "item_category_id        40.0    37.0    40.0    40.0    57.0"
            ]
          },
          "metadata": {
            "tags": []
          },
          "execution_count": 128
        }
      ]
    },
    {
      "cell_type": "code",
      "metadata": {
        "id": "paR6jX_1wsGP",
        "colab_type": "code",
        "colab": {
          "base_uri": "https://localhost:8080/",
          "height": 34
        },
        "outputId": "7896dd7e-ff09-4ffa-edc8-56c810c31c12"
      },
      "source": [
        "len(sales_train_month['item_category_id'].unique())"
      ],
      "execution_count": 129,
      "outputs": [
        {
          "output_type": "execute_result",
          "data": {
            "text/plain": [
              "83"
            ]
          },
          "metadata": {
            "tags": []
          },
          "execution_count": 129
        }
      ]
    },
    {
      "cell_type": "code",
      "metadata": {
        "id": "d-bPDUIpxPBv",
        "colab_type": "code",
        "colab": {
          "base_uri": "https://localhost:8080/",
          "height": 1000
        },
        "outputId": "13951bf0-1630-4471-b083-ac1b89c16414"
      },
      "source": [
        "sales_train_month_copy = sales_train_month.copy() # a copy of our df\n",
        "sales_train_month_copy['date_block_num']=(sales_train_month_copy['date_block_num'] %12)+1 # translate to the natural 12 months\n",
        "fig, ax = plt.subplots(sharex=False,sharey=False,figsize=(20,30),ncols=2,nrows=9) #subplottinh\n",
        "counter =0\n",
        "for i in range(9):\n",
        "  for j in range(2):\n",
        "    if i == 8 and j== 1: #skipping the last chart\n",
        "      continue\n",
        "    tmp_df = sales_train_month_copy.groupby(['date_block_num','item_category_id'],as_index=False).agg({'item_count_month':['sum']})\n",
        "    tmp_df.columns=['date_block_num','item_category_id','item_count_month']\n",
        "    tmp_df =tmp_df.query('item_category_id >= '+str(counter)+ ' and item_category_id <'+str(counter+5))\n",
        "    counter += 5\n",
        "    tmp_df_pv =tmp_df.pivot(index='date_block_num',values='item_count_month',columns='item_category_id')\n",
        "    tmp_df_pv.fillna(0,inplace=True)\n",
        "    tmp_df_pv.plot(ax=ax[i][j])"
      ],
      "execution_count": 130,
      "outputs": [
        {
          "output_type": "display_data",
          "data": {
            "image/png": "[encoded data removed]",
            "text/plain": [
              "<Figure size 1440x2160 with 18 Axes>"
            ]
          },
          "metadata": {
            "tags": [],
            "needs_background": "light"
          }
        }
      ]
    },
    {
      "cell_type": "code",
      "metadata": {
        "id": "tsv87GVsRHmv",
        "colab_type": "code",
        "colab": {
          "base_uri": "https://localhost:8080/",
          "height": 328
        },
        "outputId": "47825b6c-abc6-4399-9f47-9d1354c1d705"
      },
      "source": [
        "tmp_df = sales_train_month.groupby(['item_category_id','month'],as_index=False).agg({'item_count_month':['sum']})\n",
        "tmp_df.columns=['item_category_id','month','category_month_count']\n",
        "sales_train_month = sales_train_month.merge(right=tmp_df,how='left')\n",
        "sales_train_month.head().T"
      ],
      "execution_count": 131,
      "outputs": [
        {
          "output_type": "execute_result",
          "data": {
            "text/html": [
              "<div>\n",
              "<style scoped>\n",
              "    .dataframe tbody tr th:only-of-type {\n",
              "        vertical-align: middle;\n",
              "    }\n",
              "\n",
              "    .dataframe tbody tr th {\n",
              "        vertical-align: top;\n",
              "    }\n",
              "\n",
              "    .dataframe thead th {\n",
              "        text-align: right;\n",
              "    }\n",
              "</style>\n",
              "<table border=\"1\" class=\"dataframe\">\n",
              "  <thead>\n",
              "    <tr style=\"text-align: right;\">\n",
              "      <th></th>\n",
              "      <th>0</th>\n",
              "      <th>1</th>\n",
              "      <th>2</th>\n",
              "      <th>3</th>\n",
              "      <th>4</th>\n",
              "    </tr>\n",
              "  </thead>\n",
              "  <tbody>\n",
              "    <tr>\n",
              "      <th>date_block_num</th>\n",
              "      <td>0.0</td>\n",
              "      <td>0.0</td>\n",
              "      <td>0.0</td>\n",
              "      <td>0.0</td>\n",
              "      <td>0.0</td>\n",
              "    </tr>\n",
              "    <tr>\n",
              "      <th>shop_id</th>\n",
              "      <td>0.0</td>\n",
              "      <td>0.0</td>\n",
              "      <td>0.0</td>\n",
              "      <td>0.0</td>\n",
              "      <td>0.0</td>\n",
              "    </tr>\n",
              "    <tr>\n",
              "      <th>item_id</th>\n",
              "      <td>32.0</td>\n",
              "      <td>33.0</td>\n",
              "      <td>35.0</td>\n",
              "      <td>43.0</td>\n",
              "      <td>51.0</td>\n",
              "    </tr>\n",
              "    <tr>\n",
              "      <th>item_price_mean</th>\n",
              "      <td>221.0</td>\n",
              "      <td>347.0</td>\n",
              "      <td>247.0</td>\n",
              "      <td>221.0</td>\n",
              "      <td>128.5</td>\n",
              "    </tr>\n",
              "    <tr>\n",
              "      <th>item_count_month</th>\n",
              "      <td>6.0</td>\n",
              "      <td>3.0</td>\n",
              "      <td>1.0</td>\n",
              "      <td>1.0</td>\n",
              "      <td>2.0</td>\n",
              "    </tr>\n",
              "    <tr>\n",
              "      <th>month</th>\n",
              "      <td>1.0</td>\n",
              "      <td>1.0</td>\n",
              "      <td>1.0</td>\n",
              "      <td>1.0</td>\n",
              "      <td>1.0</td>\n",
              "    </tr>\n",
              "    <tr>\n",
              "      <th>sum_sales_month_shop</th>\n",
              "      <td>5511.0</td>\n",
              "      <td>5511.0</td>\n",
              "      <td>5511.0</td>\n",
              "      <td>5511.0</td>\n",
              "      <td>5511.0</td>\n",
              "    </tr>\n",
              "    <tr>\n",
              "      <th>item_category_id</th>\n",
              "      <td>40.0</td>\n",
              "      <td>37.0</td>\n",
              "      <td>40.0</td>\n",
              "      <td>40.0</td>\n",
              "      <td>57.0</td>\n",
              "    </tr>\n",
              "    <tr>\n",
              "      <th>category_month_count</th>\n",
              "      <td>70752.0</td>\n",
              "      <td>19662.0</td>\n",
              "      <td>70752.0</td>\n",
              "      <td>70752.0</td>\n",
              "      <td>3211.0</td>\n",
              "    </tr>\n",
              "  </tbody>\n",
              "</table>\n",
              "</div>"
            ],
            "text/plain": [
              "                            0        1        2        3       4\n",
              "date_block_num            0.0      0.0      0.0      0.0     0.0\n",
              "shop_id                   0.0      0.0      0.0      0.0     0.0\n",
              "item_id                  32.0     33.0     35.0     43.0    51.0\n",
              "item_price_mean         221.0    347.0    247.0    221.0   128.5\n",
              "item_count_month          6.0      3.0      1.0      1.0     2.0\n",
              "month                     1.0      1.0      1.0      1.0     1.0\n",
              "sum_sales_month_shop   5511.0   5511.0   5511.0   5511.0  5511.0\n",
              "item_category_id         40.0     37.0     40.0     40.0    57.0\n",
              "category_month_count  70752.0  19662.0  70752.0  70752.0  3211.0"
            ]
          },
          "metadata": {
            "tags": []
          },
          "execution_count": 131
        }
      ]
    },
    {
      "cell_type": "code",
      "metadata": {
        "id": "rPcGQjv2TR95",
        "colab_type": "code",
        "colab": {
          "base_uri": "https://localhost:8080/",
          "height": 359
        },
        "outputId": "fae5a1bc-db08-4718-9d25-4d65f8a21f7a"
      },
      "source": [
        "tmp_df = sales_train_month.groupby(['item_id','month'],as_index=False).agg({'item_count_month':['sum']})\n",
        "tmp_df.columns=['item_id','month','item_monthly_count']\n",
        "sales_train_month = sales_train_month.merge(right=tmp_df,how='left')\n",
        "sales_train_month.head().T"
      ],
      "execution_count": 132,
      "outputs": [
        {
          "output_type": "execute_result",
          "data": {
            "text/html": [
              "<div>\n",
              "<style scoped>\n",
              "    .dataframe tbody tr th:only-of-type {\n",
              "        vertical-align: middle;\n",
              "    }\n",
              "\n",
              "    .dataframe tbody tr th {\n",
              "        vertical-align: top;\n",
              "    }\n",
              "\n",
              "    .dataframe thead th {\n",
              "        text-align: right;\n",
              "    }\n",
              "</style>\n",
              "<table border=\"1\" class=\"dataframe\">\n",
              "  <thead>\n",
              "    <tr style=\"text-align: right;\">\n",
              "      <th></th>\n",
              "      <th>0</th>\n",
              "      <th>1</th>\n",
              "      <th>2</th>\n",
              "      <th>3</th>\n",
              "      <th>4</th>\n",
              "    </tr>\n",
              "  </thead>\n",
              "  <tbody>\n",
              "    <tr>\n",
              "      <th>date_block_num</th>\n",
              "      <td>0.0</td>\n",
              "      <td>0.0</td>\n",
              "      <td>0.0</td>\n",
              "      <td>0.0</td>\n",
              "      <td>0.0</td>\n",
              "    </tr>\n",
              "    <tr>\n",
              "      <th>shop_id</th>\n",
              "      <td>0.0</td>\n",
              "      <td>0.0</td>\n",
              "      <td>0.0</td>\n",
              "      <td>0.0</td>\n",
              "      <td>0.0</td>\n",
              "    </tr>\n",
              "    <tr>\n",
              "      <th>item_id</th>\n",
              "      <td>32.0</td>\n",
              "      <td>33.0</td>\n",
              "      <td>35.0</td>\n",
              "      <td>43.0</td>\n",
              "      <td>51.0</td>\n",
              "    </tr>\n",
              "    <tr>\n",
              "      <th>item_price_mean</th>\n",
              "      <td>221.0</td>\n",
              "      <td>347.0</td>\n",
              "      <td>247.0</td>\n",
              "      <td>221.0</td>\n",
              "      <td>128.5</td>\n",
              "    </tr>\n",
              "    <tr>\n",
              "      <th>item_count_month</th>\n",
              "      <td>6.0</td>\n",
              "      <td>3.0</td>\n",
              "      <td>1.0</td>\n",
              "      <td>1.0</td>\n",
              "      <td>2.0</td>\n",
              "    </tr>\n",
              "    <tr>\n",
              "      <th>month</th>\n",
              "      <td>1.0</td>\n",
              "      <td>1.0</td>\n",
              "      <td>1.0</td>\n",
              "      <td>1.0</td>\n",
              "      <td>1.0</td>\n",
              "    </tr>\n",
              "    <tr>\n",
              "      <th>sum_sales_month_shop</th>\n",
              "      <td>5511.0</td>\n",
              "      <td>5511.0</td>\n",
              "      <td>5511.0</td>\n",
              "      <td>5511.0</td>\n",
              "      <td>5511.0</td>\n",
              "    </tr>\n",
              "    <tr>\n",
              "      <th>item_category_id</th>\n",
              "      <td>40.0</td>\n",
              "      <td>37.0</td>\n",
              "      <td>40.0</td>\n",
              "      <td>40.0</td>\n",
              "      <td>57.0</td>\n",
              "    </tr>\n",
              "    <tr>\n",
              "      <th>category_month_count</th>\n",
              "      <td>70752.0</td>\n",
              "      <td>19662.0</td>\n",
              "      <td>70752.0</td>\n",
              "      <td>70752.0</td>\n",
              "      <td>3211.0</td>\n",
              "    </tr>\n",
              "    <tr>\n",
              "      <th>item_monthly_count</th>\n",
              "      <td>426.0</td>\n",
              "      <td>122.0</td>\n",
              "      <td>78.0</td>\n",
              "      <td>2.0</td>\n",
              "      <td>27.0</td>\n",
              "    </tr>\n",
              "  </tbody>\n",
              "</table>\n",
              "</div>"
            ],
            "text/plain": [
              "                            0        1        2        3       4\n",
              "date_block_num            0.0      0.0      0.0      0.0     0.0\n",
              "shop_id                   0.0      0.0      0.0      0.0     0.0\n",
              "item_id                  32.0     33.0     35.0     43.0    51.0\n",
              "item_price_mean         221.0    347.0    247.0    221.0   128.5\n",
              "item_count_month          6.0      3.0      1.0      1.0     2.0\n",
              "month                     1.0      1.0      1.0      1.0     1.0\n",
              "sum_sales_month_shop   5511.0   5511.0   5511.0   5511.0  5511.0\n",
              "item_category_id         40.0     37.0     40.0     40.0    57.0\n",
              "category_month_count  70752.0  19662.0  70752.0  70752.0  3211.0\n",
              "item_monthly_count      426.0    122.0     78.0      2.0    27.0"
            ]
          },
          "metadata": {
            "tags": []
          },
          "execution_count": 132
        }
      ]
    },
    {
      "cell_type": "markdown",
      "metadata": {
        "id": "Yhzz_b_DG9Wr",
        "colab_type": "text"
      },
      "source": [
        "### Adding those items/shops into the dataset which are test set but they are not sold (so item_count_month ==0)"
      ]
    },
    {
      "cell_type": "code",
      "metadata": {
        "id": "tOzq6YU0H4ES",
        "colab_type": "code",
        "colab": {
          "base_uri": "https://localhost:8080/",
          "height": 1000
        },
        "outputId": "880d02f3-493c-4219-d415-078af87c3e45"
      },
      "source": [
        "df = pd.DataFrame()\n",
        "for i in sales_train_month['month'].unique():\n",
        "  sub_sale=sales_train_month.query('month =='+str(i)).copy()\n",
        "  sub_sale =sub_sale.merge(test.drop(['ID','date_block_num'],axis=1),how='right',on=['shop_id','item_id'])\n",
        "  sub_sale.isna().sum()\n",
        "  index = sub_sale['item_count_month'].index[sub_sale['item_count_month'].apply(np.isnan)]\n",
        "  sub_sale.loc[index,'month']=i\n",
        "  sub_sale.loc[index,'date_block_num']=0 # we will remove this feature later\n",
        "  sub_sale.loc[index,'item_count_month']=0\n",
        "  sub_total = sales_train_month.groupby(['item_id'],as_index=False).agg({'item_price_mean':['median']}) # instead of price / ietm / shop _> we do proce item independant of shop\n",
        "  sub_total.columns = ['item_id','item_price_mean_trick1']\n",
        "  sub_sale.loc[index,'item_price_mean']=sub_total.merge(right=sub_sale.loc[index,:],how='right',on=['item_id'])['item_price_mean_trick1']\n",
        "  sub_sale['item_price_mean'].fillna(value=sub_sale['item_price_mean'].dropna().mean(),inplace=True) #the average to fill na's \n",
        "  #sum_sales_month_shop\n",
        "  sub_total = sub_sale.dropna().groupby(['shop_id'],as_index=False).agg({'item_count_month':['sum']}) # instead of price / ietm / shop _> we do proce item independant of shop\n",
        "  sub_total.columns = ['shop_id','sum_sales_month_shop_count']\n",
        "  sub_sale.loc[index,'sum_sales_month_shop']=sub_total.merge(right=sub_sale.loc[index,:],how='right',on=['shop_id'])['sum_sales_month_shop_count']\n",
        "  sub_sale['sum_sales_month_shop'].fillna(value=0,inplace=True) #0's to fill na's \n",
        "  #item_category_id\n",
        "  sub_sale.loc[index,'item_category_id']=sub_sale.loc[index,:].drop(['item_category_id'],axis=1).merge(items,how='left',on=['item_id']).copy().set_index(index)['item_category_id']\n",
        "  # category_month_count\n",
        "  sub_total = sub_sale.dropna().groupby(['item_category_id'],as_index=False).agg({'item_count_month':['sum']}) # instead of price / ietm / shop _> we do proce item independant of shop\n",
        "  sub_total.columns = ['item_category_id','sum_sales_cat_count']\n",
        "  sub_sale.loc[index,'category_month_count']=sub_total.merge(right=sub_sale.loc[index,:],how='right',on=['item_category_id'])['sum_sales_cat_count']\n",
        "  sub_sale['category_month_count'].fillna(value=0,inplace=True) #0's to fill na's \n",
        "  # item_monthly_count\n",
        "  sub_total = sub_sale.dropna().groupby(['item_id'],as_index=False).agg({'item_count_month':['sum']}) # instead of price / ietm / shop _> we do proce item independant of shop\n",
        "  sub_total.columns = ['item_id','sum_sales_item_count']\n",
        "  sub_sale.loc[index,'item_monthly_count']=sub_total.merge(right=sub_sale.loc[index,:],how='right',on=['item_id'])['sum_sales_item_count']\n",
        "  sub_sale['item_monthly_count'].fillna(value=0,inplace=True) #0's to fill na's \n",
        "  print (sub_sale.isna().sum())\n",
        "  df=df.append(sub_sale)\n"
      ],
      "execution_count": 133,
      "outputs": [
        {
          "output_type": "stream",
          "text": [
            "date_block_num          0\n",
            "shop_id                 0\n",
            "item_id                 0\n",
            "item_price_mean         0\n",
            "item_count_month        0\n",
            "month                   0\n",
            "sum_sales_month_shop    0\n",
            "item_category_id        0\n",
            "category_month_count    0\n",
            "item_monthly_count      0\n",
            "dtype: int64\n",
            "date_block_num          0\n",
            "shop_id                 0\n",
            "item_id                 0\n",
            "item_price_mean         0\n",
            "item_count_month        0\n",
            "month                   0\n",
            "sum_sales_month_shop    0\n",
            "item_category_id        0\n",
            "category_month_count    0\n",
            "item_monthly_count      0\n",
            "dtype: int64\n",
            "date_block_num          0\n",
            "shop_id                 0\n",
            "item_id                 0\n",
            "item_price_mean         0\n",
            "item_count_month        0\n",
            "month                   0\n",
            "sum_sales_month_shop    0\n",
            "item_category_id        0\n",
            "category_month_count    0\n",
            "item_monthly_count      0\n",
            "dtype: int64\n",
            "date_block_num          0\n",
            "shop_id                 0\n",
            "item_id                 0\n",
            "item_price_mean         0\n",
            "item_count_month        0\n",
            "month                   0\n",
            "sum_sales_month_shop    0\n",
            "item_category_id        0\n",
            "category_month_count    0\n",
            "item_monthly_count      0\n",
            "dtype: int64\n",
            "date_block_num          0\n",
            "shop_id                 0\n",
            "item_id                 0\n",
            "item_price_mean         0\n",
            "item_count_month        0\n",
            "month                   0\n",
            "sum_sales_month_shop    0\n",
            "item_category_id        0\n",
            "category_month_count    0\n",
            "item_monthly_count      0\n",
            "dtype: int64\n",
            "date_block_num          0\n",
            "shop_id                 0\n",
            "item_id                 0\n",
            "item_price_mean         0\n",
            "item_count_month        0\n",
            "month                   0\n",
            "sum_sales_month_shop    0\n",
            "item_category_id        0\n",
            "category_month_count    0\n",
            "item_monthly_count      0\n",
            "dtype: int64\n",
            "date_block_num          0\n",
            "shop_id                 0\n",
            "item_id                 0\n",
            "item_price_mean         0\n",
            "item_count_month        0\n",
            "month                   0\n",
            "sum_sales_month_shop    0\n",
            "item_category_id        0\n",
            "category_month_count    0\n",
            "item_monthly_count      0\n",
            "dtype: int64\n",
            "date_block_num          0\n",
            "shop_id                 0\n",
            "item_id                 0\n",
            "item_price_mean         0\n",
            "item_count_month        0\n",
            "month                   0\n",
            "sum_sales_month_shop    0\n",
            "item_category_id        0\n",
            "category_month_count    0\n",
            "item_monthly_count      0\n",
            "dtype: int64\n",
            "date_block_num          0\n",
            "shop_id                 0\n",
            "item_id                 0\n",
            "item_price_mean         0\n",
            "item_count_month        0\n",
            "month                   0\n",
            "sum_sales_month_shop    0\n",
            "item_category_id        0\n",
            "category_month_count    0\n",
            "item_monthly_count      0\n",
            "dtype: int64\n",
            "date_block_num          0\n",
            "shop_id                 0\n",
            "item_id                 0\n",
            "item_price_mean         0\n",
            "item_count_month        0\n",
            "month                   0\n",
            "sum_sales_month_shop    0\n",
            "item_category_id        0\n",
            "category_month_count    0\n",
            "item_monthly_count      0\n",
            "dtype: int64\n",
            "date_block_num          0\n",
            "shop_id                 0\n",
            "item_id                 0\n",
            "item_price_mean         0\n",
            "item_count_month        0\n",
            "month                   0\n",
            "sum_sales_month_shop    0\n",
            "item_category_id        0\n",
            "category_month_count    0\n",
            "item_monthly_count      0\n",
            "dtype: int64\n",
            "date_block_num          0\n",
            "shop_id                 0\n",
            "item_id                 0\n",
            "item_price_mean         0\n",
            "item_count_month        0\n",
            "month                   0\n",
            "sum_sales_month_shop    0\n",
            "item_category_id        0\n",
            "category_month_count    0\n",
            "item_monthly_count      0\n",
            "dtype: int64\n"
          ],
          "name": "stdout"
        }
      ]
    },
    {
      "cell_type": "code",
      "metadata": {
        "id": "NhVh5-eMRpvI",
        "colab_type": "code",
        "colab": {
          "base_uri": "https://localhost:8080/",
          "height": 51
        },
        "outputId": "235c19f1-6f10-4774-d4e8-3fd4a9cb9c23"
      },
      "source": [
        "print(df.shape)\n",
        "print(sales_train_month.shape)"
      ],
      "execution_count": 134,
      "outputs": [
        {
          "output_type": "stream",
          "text": [
            "(2686808, 10)\n",
            "(1565778, 10)\n"
          ],
          "name": "stdout"
        }
      ]
    },
    {
      "cell_type": "code",
      "metadata": {
        "id": "Sqo_vOgj9y-0",
        "colab_type": "code",
        "colab": {}
      },
      "source": [
        "train_ds=df.copy()\n",
        "train_ds['1_month_item_cnt']=0\n",
        "train_ds['2_month_item_cnt']=0\n",
        "train_ds['3_month_item_cnt']=0\n"
      ],
      "execution_count": 0,
      "outputs": []
    },
    {
      "cell_type": "code",
      "metadata": {
        "id": "ncjDcEGI-cuX",
        "colab_type": "code",
        "colab": {}
      },
      "source": [
        "train_ds.loc[:,'1_month_item_cnt']=df.sort_values('month').reset_index()['item_count_month'].shift(1,fill_value=0)\n",
        "train_ds.loc[:,'2_month_item_cnt']=df.sort_values('month').reset_index()['item_count_month'].shift(2,fill_value=0)\n",
        "train_ds.loc[:,'3_month_item_cnt']=df.sort_values('month').reset_index()['item_count_month'].shift(3,fill_value=0)"
      ],
      "execution_count": 0,
      "outputs": []
    },
    {
      "cell_type": "code",
      "metadata": {
        "id": "jOSUUseRAeE4",
        "colab_type": "code",
        "colab": {
          "base_uri": "https://localhost:8080/",
          "height": 452
        },
        "outputId": "a6249181-0d68-4ca4-9c9b-4513014e68e0"
      },
      "source": [
        "train_ds.head().T"
      ],
      "execution_count": 137,
      "outputs": [
        {
          "output_type": "execute_result",
          "data": {
            "text/html": [
              "<div>\n",
              "<style scoped>\n",
              "    .dataframe tbody tr th:only-of-type {\n",
              "        vertical-align: middle;\n",
              "    }\n",
              "\n",
              "    .dataframe tbody tr th {\n",
              "        vertical-align: top;\n",
              "    }\n",
              "\n",
              "    .dataframe thead th {\n",
              "        text-align: right;\n",
              "    }\n",
              "</style>\n",
              "<table border=\"1\" class=\"dataframe\">\n",
              "  <thead>\n",
              "    <tr style=\"text-align: right;\">\n",
              "      <th></th>\n",
              "      <th>0</th>\n",
              "      <th>1</th>\n",
              "      <th>2</th>\n",
              "      <th>3</th>\n",
              "      <th>4</th>\n",
              "    </tr>\n",
              "  </thead>\n",
              "  <tbody>\n",
              "    <tr>\n",
              "      <th>date_block_num</th>\n",
              "      <td>0.0</td>\n",
              "      <td>12.0</td>\n",
              "      <td>0.0</td>\n",
              "      <td>0.0</td>\n",
              "      <td>12.0</td>\n",
              "    </tr>\n",
              "    <tr>\n",
              "      <th>shop_id</th>\n",
              "      <td>2.0</td>\n",
              "      <td>2.0</td>\n",
              "      <td>2.0</td>\n",
              "      <td>2.0</td>\n",
              "      <td>2.0</td>\n",
              "    </tr>\n",
              "    <tr>\n",
              "      <th>item_id</th>\n",
              "      <td>33.0</td>\n",
              "      <td>33.0</td>\n",
              "      <td>491.0</td>\n",
              "      <td>1007.0</td>\n",
              "      <td>1007.0</td>\n",
              "    </tr>\n",
              "    <tr>\n",
              "      <th>item_price_mean</th>\n",
              "      <td>499.0</td>\n",
              "      <td>199.0</td>\n",
              "      <td>600.0</td>\n",
              "      <td>449.0</td>\n",
              "      <td>599.0</td>\n",
              "    </tr>\n",
              "    <tr>\n",
              "      <th>item_count_month</th>\n",
              "      <td>1.0</td>\n",
              "      <td>1.0</td>\n",
              "      <td>1.0</td>\n",
              "      <td>3.0</td>\n",
              "      <td>1.0</td>\n",
              "    </tr>\n",
              "    <tr>\n",
              "      <th>month</th>\n",
              "      <td>1.0</td>\n",
              "      <td>1.0</td>\n",
              "      <td>1.0</td>\n",
              "      <td>1.0</td>\n",
              "      <td>1.0</td>\n",
              "    </tr>\n",
              "    <tr>\n",
              "      <th>sum_sales_month_shop</th>\n",
              "      <td>2894.0</td>\n",
              "      <td>2894.0</td>\n",
              "      <td>2894.0</td>\n",
              "      <td>2894.0</td>\n",
              "      <td>2894.0</td>\n",
              "    </tr>\n",
              "    <tr>\n",
              "      <th>item_category_id</th>\n",
              "      <td>37.0</td>\n",
              "      <td>37.0</td>\n",
              "      <td>73.0</td>\n",
              "      <td>67.0</td>\n",
              "      <td>67.0</td>\n",
              "    </tr>\n",
              "    <tr>\n",
              "      <th>category_month_count</th>\n",
              "      <td>19662.0</td>\n",
              "      <td>19662.0</td>\n",
              "      <td>890.0</td>\n",
              "      <td>4596.0</td>\n",
              "      <td>4596.0</td>\n",
              "    </tr>\n",
              "    <tr>\n",
              "      <th>item_monthly_count</th>\n",
              "      <td>122.0</td>\n",
              "      <td>122.0</td>\n",
              "      <td>80.0</td>\n",
              "      <td>127.0</td>\n",
              "      <td>127.0</td>\n",
              "    </tr>\n",
              "    <tr>\n",
              "      <th>1_month_item_cnt</th>\n",
              "      <td>0.0</td>\n",
              "      <td>1.0</td>\n",
              "      <td>0.0</td>\n",
              "      <td>0.0</td>\n",
              "      <td>0.0</td>\n",
              "    </tr>\n",
              "    <tr>\n",
              "      <th>2_month_item_cnt</th>\n",
              "      <td>0.0</td>\n",
              "      <td>0.0</td>\n",
              "      <td>1.0</td>\n",
              "      <td>0.0</td>\n",
              "      <td>0.0</td>\n",
              "    </tr>\n",
              "    <tr>\n",
              "      <th>3_month_item_cnt</th>\n",
              "      <td>0.0</td>\n",
              "      <td>0.0</td>\n",
              "      <td>0.0</td>\n",
              "      <td>1.0</td>\n",
              "      <td>0.0</td>\n",
              "    </tr>\n",
              "  </tbody>\n",
              "</table>\n",
              "</div>"
            ],
            "text/plain": [
              "                            0        1       2       3       4\n",
              "date_block_num            0.0     12.0     0.0     0.0    12.0\n",
              "shop_id                   2.0      2.0     2.0     2.0     2.0\n",
              "item_id                  33.0     33.0   491.0  1007.0  1007.0\n",
              "item_price_mean         499.0    199.0   600.0   449.0   599.0\n",
              "item_count_month          1.0      1.0     1.0     3.0     1.0\n",
              "month                     1.0      1.0     1.0     1.0     1.0\n",
              "sum_sales_month_shop   2894.0   2894.0  2894.0  2894.0  2894.0\n",
              "item_category_id         37.0     37.0    73.0    67.0    67.0\n",
              "category_month_count  19662.0  19662.0   890.0  4596.0  4596.0\n",
              "item_monthly_count      122.0    122.0    80.0   127.0   127.0\n",
              "1_month_item_cnt          0.0      1.0     0.0     0.0     0.0\n",
              "2_month_item_cnt          0.0      0.0     1.0     0.0     0.0\n",
              "3_month_item_cnt          0.0      0.0     0.0     1.0     0.0"
            ]
          },
          "metadata": {
            "tags": []
          },
          "execution_count": 137
        }
      ]
    },
    {
      "cell_type": "code",
      "metadata": {
        "id": "QpqvNbABGG5u",
        "colab_type": "code",
        "colab": {}
      },
      "source": [
        ""
      ],
      "execution_count": 0,
      "outputs": []
    },
    {
      "cell_type": "markdown",
      "metadata": {
        "id": "Tj1ueW1CGImf",
        "colab_type": "text"
      },
      "source": [
        "## Mean(ish) encoding"
      ]
    },
    {
      "cell_type": "code",
      "metadata": {
        "id": "oafsxMMtCVvo",
        "colab_type": "code",
        "colab": {}
      },
      "source": [
        "# shop_id\n",
        "tmp_df = train_ds.groupby(['shop_id'],as_index=False).agg({'item_count_month':['sum','mean']})\n",
        "tmp_df.columns=['shop_id','shop_id_sum','shop_id_mean']\n",
        "train_ds['shop_id_sum']=train_ds.merge(right=tmp_df,on=['shop_id'],how='left')['shop_id_sum']\n",
        "train_ds['shop_id_mean']=train_ds.merge(right=tmp_df,on=['shop_id'],how='left')['shop_id_mean']\n",
        "# item_id\n",
        "tmp_df = train_ds.groupby(['item_id'],as_index=False).agg({'item_count_month':['sum','mean']})\n",
        "tmp_df.columns=['item_id','item_id_sum','item_id_mean']\n",
        "train_ds['item_id_sum']=train_ds.merge(right=tmp_df,on=['item_id'],how='left')['item_id_sum']\n",
        "train_ds['item_id_mean']=train_ds.merge(right=tmp_df,on=['item_id'],how='left')['item_id_mean']"
      ],
      "execution_count": 0,
      "outputs": []
    },
    {
      "cell_type": "code",
      "metadata": {
        "id": "g1yppP1FCCnD",
        "colab_type": "code",
        "colab": {}
      },
      "source": [
        "index_remove = train_ds.query('item_count_month >20').index\n",
        "train_ds.drop(index_remove,axis=0,inplace=True)"
      ],
      "execution_count": 0,
      "outputs": []
    },
    {
      "cell_type": "code",
      "metadata": {
        "id": "-OTKXiKpHiMs",
        "colab_type": "code",
        "colab": {
          "base_uri": "https://localhost:8080/",
          "height": 576
        },
        "outputId": "b5ee4879-f951-4810-c306-01672379fa0c"
      },
      "source": [
        "train_ds.head().T"
      ],
      "execution_count": 143,
      "outputs": [
        {
          "output_type": "execute_result",
          "data": {
            "text/html": [
              "<div>\n",
              "<style scoped>\n",
              "    .dataframe tbody tr th:only-of-type {\n",
              "        vertical-align: middle;\n",
              "    }\n",
              "\n",
              "    .dataframe tbody tr th {\n",
              "        vertical-align: top;\n",
              "    }\n",
              "\n",
              "    .dataframe thead th {\n",
              "        text-align: right;\n",
              "    }\n",
              "</style>\n",
              "<table border=\"1\" class=\"dataframe\">\n",
              "  <thead>\n",
              "    <tr style=\"text-align: right;\">\n",
              "      <th></th>\n",
              "      <th>0</th>\n",
              "      <th>1</th>\n",
              "      <th>2</th>\n",
              "      <th>3</th>\n",
              "      <th>4</th>\n",
              "    </tr>\n",
              "  </thead>\n",
              "  <tbody>\n",
              "    <tr>\n",
              "      <th>date_block_num</th>\n",
              "      <td>0.000000</td>\n",
              "      <td>12.000000</td>\n",
              "      <td>0.000000</td>\n",
              "      <td>0.000000</td>\n",
              "      <td>12.000000</td>\n",
              "    </tr>\n",
              "    <tr>\n",
              "      <th>shop_id</th>\n",
              "      <td>2.000000</td>\n",
              "      <td>2.000000</td>\n",
              "      <td>2.000000</td>\n",
              "      <td>2.000000</td>\n",
              "      <td>2.000000</td>\n",
              "    </tr>\n",
              "    <tr>\n",
              "      <th>item_id</th>\n",
              "      <td>33.000000</td>\n",
              "      <td>33.000000</td>\n",
              "      <td>491.000000</td>\n",
              "      <td>1007.000000</td>\n",
              "      <td>1007.000000</td>\n",
              "    </tr>\n",
              "    <tr>\n",
              "      <th>item_price_mean</th>\n",
              "      <td>499.000000</td>\n",
              "      <td>199.000000</td>\n",
              "      <td>600.000000</td>\n",
              "      <td>449.000000</td>\n",
              "      <td>599.000000</td>\n",
              "    </tr>\n",
              "    <tr>\n",
              "      <th>item_count_month</th>\n",
              "      <td>1.000000</td>\n",
              "      <td>1.000000</td>\n",
              "      <td>1.000000</td>\n",
              "      <td>3.000000</td>\n",
              "      <td>1.000000</td>\n",
              "    </tr>\n",
              "    <tr>\n",
              "      <th>month</th>\n",
              "      <td>1.000000</td>\n",
              "      <td>1.000000</td>\n",
              "      <td>1.000000</td>\n",
              "      <td>1.000000</td>\n",
              "      <td>1.000000</td>\n",
              "    </tr>\n",
              "    <tr>\n",
              "      <th>sum_sales_month_shop</th>\n",
              "      <td>2894.000000</td>\n",
              "      <td>2894.000000</td>\n",
              "      <td>2894.000000</td>\n",
              "      <td>2894.000000</td>\n",
              "      <td>2894.000000</td>\n",
              "    </tr>\n",
              "    <tr>\n",
              "      <th>item_category_id</th>\n",
              "      <td>37.000000</td>\n",
              "      <td>37.000000</td>\n",
              "      <td>73.000000</td>\n",
              "      <td>67.000000</td>\n",
              "      <td>67.000000</td>\n",
              "    </tr>\n",
              "    <tr>\n",
              "      <th>category_month_count</th>\n",
              "      <td>19662.000000</td>\n",
              "      <td>19662.000000</td>\n",
              "      <td>890.000000</td>\n",
              "      <td>4596.000000</td>\n",
              "      <td>4596.000000</td>\n",
              "    </tr>\n",
              "    <tr>\n",
              "      <th>item_monthly_count</th>\n",
              "      <td>122.000000</td>\n",
              "      <td>122.000000</td>\n",
              "      <td>80.000000</td>\n",
              "      <td>127.000000</td>\n",
              "      <td>127.000000</td>\n",
              "    </tr>\n",
              "    <tr>\n",
              "      <th>1_month_item_cnt</th>\n",
              "      <td>0.000000</td>\n",
              "      <td>1.000000</td>\n",
              "      <td>0.000000</td>\n",
              "      <td>0.000000</td>\n",
              "      <td>0.000000</td>\n",
              "    </tr>\n",
              "    <tr>\n",
              "      <th>2_month_item_cnt</th>\n",
              "      <td>0.000000</td>\n",
              "      <td>0.000000</td>\n",
              "      <td>1.000000</td>\n",
              "      <td>0.000000</td>\n",
              "      <td>0.000000</td>\n",
              "    </tr>\n",
              "    <tr>\n",
              "      <th>3_month_item_cnt</th>\n",
              "      <td>0.000000</td>\n",
              "      <td>0.000000</td>\n",
              "      <td>0.000000</td>\n",
              "      <td>1.000000</td>\n",
              "      <td>0.000000</td>\n",
              "    </tr>\n",
              "    <tr>\n",
              "      <th>shop_id_sum</th>\n",
              "      <td>17293.000000</td>\n",
              "      <td>17293.000000</td>\n",
              "      <td>17293.000000</td>\n",
              "      <td>17293.000000</td>\n",
              "      <td>17293.000000</td>\n",
              "    </tr>\n",
              "    <tr>\n",
              "      <th>shop_id_mean</th>\n",
              "      <td>0.276454</td>\n",
              "      <td>0.276454</td>\n",
              "      <td>0.276454</td>\n",
              "      <td>0.276454</td>\n",
              "      <td>0.276454</td>\n",
              "    </tr>\n",
              "    <tr>\n",
              "      <th>item_id_sum</th>\n",
              "      <td>701.000000</td>\n",
              "      <td>701.000000</td>\n",
              "      <td>605.000000</td>\n",
              "      <td>1202.000000</td>\n",
              "      <td>1202.000000</td>\n",
              "    </tr>\n",
              "    <tr>\n",
              "      <th>item_id_mean</th>\n",
              "      <td>1.057315</td>\n",
              "      <td>1.057315</td>\n",
              "      <td>0.969551</td>\n",
              "      <td>1.762463</td>\n",
              "      <td>1.762463</td>\n",
              "    </tr>\n",
              "  </tbody>\n",
              "</table>\n",
              "</div>"
            ],
            "text/plain": [
              "                                 0             1  ...             3             4\n",
              "date_block_num            0.000000     12.000000  ...      0.000000     12.000000\n",
              "shop_id                   2.000000      2.000000  ...      2.000000      2.000000\n",
              "item_id                  33.000000     33.000000  ...   1007.000000   1007.000000\n",
              "item_price_mean         499.000000    199.000000  ...    449.000000    599.000000\n",
              "item_count_month          1.000000      1.000000  ...      3.000000      1.000000\n",
              "month                     1.000000      1.000000  ...      1.000000      1.000000\n",
              "sum_sales_month_shop   2894.000000   2894.000000  ...   2894.000000   2894.000000\n",
              "item_category_id         37.000000     37.000000  ...     67.000000     67.000000\n",
              "category_month_count  19662.000000  19662.000000  ...   4596.000000   4596.000000\n",
              "item_monthly_count      122.000000    122.000000  ...    127.000000    127.000000\n",
              "1_month_item_cnt          0.000000      1.000000  ...      0.000000      0.000000\n",
              "2_month_item_cnt          0.000000      0.000000  ...      0.000000      0.000000\n",
              "3_month_item_cnt          0.000000      0.000000  ...      1.000000      0.000000\n",
              "shop_id_sum           17293.000000  17293.000000  ...  17293.000000  17293.000000\n",
              "shop_id_mean              0.276454      0.276454  ...      0.276454      0.276454\n",
              "item_id_sum             701.000000    701.000000  ...   1202.000000   1202.000000\n",
              "item_id_mean              1.057315      1.057315  ...      1.762463      1.762463\n",
              "\n",
              "[17 rows x 5 columns]"
            ]
          },
          "metadata": {
            "tags": []
          },
          "execution_count": 143
        }
      ]
    },
    {
      "cell_type": "markdown",
      "metadata": {
        "id": "_HnYKfV7Gy_e",
        "colab_type": "text"
      },
      "source": [
        "## Preparing the TEST dataset"
      ]
    },
    {
      "cell_type": "code",
      "metadata": {
        "id": "a0WPpaECGw1A",
        "colab_type": "code",
        "colab": {
          "base_uri": "https://localhost:8080/",
          "height": 328
        },
        "outputId": "afde2c37-4de0-4eaf-f506-a00a457c0eb0"
      },
      "source": [
        "test['month']=(test['date_block_num']%12)+1\n",
        "# item_price_mean\n",
        "temp_df = train_ds.groupby(['shop_id','item_id','month'],as_index=False).agg({'item_price_mean':['mean']})\n",
        "temp_df.columns=['shop_id','item_id','month','item_price_mean']\n",
        "test['item_price_mean']=test.merge(temp_df,on=['shop_id','item_id','month'],how='left')['item_price_mean']\n",
        "# sum_sales_month_shop\n",
        "temp_df = train_ds.groupby(['shop_id','month'],as_index=False).agg({'item_count_month':['sum']})\n",
        "temp_df.columns=['shop_id','month','sum_sales_month_shop']\n",
        "test['sum_sales_month_shop']=test.merge(temp_df,on=['shop_id','month'],how='left')['sum_sales_month_shop']\n",
        "# category_month_count\n",
        "test['item_category_id']=test.merge(items,on=['item_id'],how='left')['item_category_id']\n",
        "temp_df = train_ds.groupby(['item_category_id','month'],as_index=False).agg({'item_count_month':['sum']})\n",
        "temp_df.columns=['item_category_id','month','sum_cat_month_shop']\n",
        "test['category_month_count']=test.merge(temp_df,on=['item_category_id','month'],how='left')['sum_cat_month_shop']\n",
        "test.head().T"
      ],
      "execution_count": 144,
      "outputs": [
        {
          "output_type": "execute_result",
          "data": {
            "text/html": [
              "<div>\n",
              "<style scoped>\n",
              "    .dataframe tbody tr th:only-of-type {\n",
              "        vertical-align: middle;\n",
              "    }\n",
              "\n",
              "    .dataframe tbody tr th {\n",
              "        vertical-align: top;\n",
              "    }\n",
              "\n",
              "    .dataframe thead th {\n",
              "        text-align: right;\n",
              "    }\n",
              "</style>\n",
              "<table border=\"1\" class=\"dataframe\">\n",
              "  <thead>\n",
              "    <tr style=\"text-align: right;\">\n",
              "      <th></th>\n",
              "      <th>0</th>\n",
              "      <th>1</th>\n",
              "      <th>2</th>\n",
              "      <th>3</th>\n",
              "      <th>4</th>\n",
              "    </tr>\n",
              "  </thead>\n",
              "  <tbody>\n",
              "    <tr>\n",
              "      <th>ID</th>\n",
              "      <td>0.0</td>\n",
              "      <td>1.0</td>\n",
              "      <td>2.0</td>\n",
              "      <td>3.0</td>\n",
              "      <td>4.0</td>\n",
              "    </tr>\n",
              "    <tr>\n",
              "      <th>shop_id</th>\n",
              "      <td>5.0</td>\n",
              "      <td>5.0</td>\n",
              "      <td>5.0</td>\n",
              "      <td>5.0</td>\n",
              "      <td>5.0</td>\n",
              "    </tr>\n",
              "    <tr>\n",
              "      <th>item_id</th>\n",
              "      <td>5037.0</td>\n",
              "      <td>5320.0</td>\n",
              "      <td>5233.0</td>\n",
              "      <td>5232.0</td>\n",
              "      <td>5268.0</td>\n",
              "    </tr>\n",
              "    <tr>\n",
              "      <th>date_block_num</th>\n",
              "      <td>34.0</td>\n",
              "      <td>34.0</td>\n",
              "      <td>34.0</td>\n",
              "      <td>34.0</td>\n",
              "      <td>34.0</td>\n",
              "    </tr>\n",
              "    <tr>\n",
              "      <th>month</th>\n",
              "      <td>11.0</td>\n",
              "      <td>11.0</td>\n",
              "      <td>11.0</td>\n",
              "      <td>11.0</td>\n",
              "      <td>11.0</td>\n",
              "    </tr>\n",
              "    <tr>\n",
              "      <th>item_price_mean</th>\n",
              "      <td>2599.0</td>\n",
              "      <td>98.0</td>\n",
              "      <td>98.0</td>\n",
              "      <td>450.0</td>\n",
              "      <td>450.0</td>\n",
              "    </tr>\n",
              "    <tr>\n",
              "      <th>sum_sales_month_shop</th>\n",
              "      <td>1045.0</td>\n",
              "      <td>1045.0</td>\n",
              "      <td>1045.0</td>\n",
              "      <td>1045.0</td>\n",
              "      <td>1045.0</td>\n",
              "    </tr>\n",
              "    <tr>\n",
              "      <th>item_category_id</th>\n",
              "      <td>19.0</td>\n",
              "      <td>55.0</td>\n",
              "      <td>19.0</td>\n",
              "      <td>23.0</td>\n",
              "      <td>20.0</td>\n",
              "    </tr>\n",
              "    <tr>\n",
              "      <th>category_month_count</th>\n",
              "      <td>5177.0</td>\n",
              "      <td>9863.0</td>\n",
              "      <td>5177.0</td>\n",
              "      <td>4561.0</td>\n",
              "      <td>3191.0</td>\n",
              "    </tr>\n",
              "  </tbody>\n",
              "</table>\n",
              "</div>"
            ],
            "text/plain": [
              "                           0       1       2       3       4\n",
              "ID                       0.0     1.0     2.0     3.0     4.0\n",
              "shop_id                  5.0     5.0     5.0     5.0     5.0\n",
              "item_id               5037.0  5320.0  5233.0  5232.0  5268.0\n",
              "date_block_num          34.0    34.0    34.0    34.0    34.0\n",
              "month                   11.0    11.0    11.0    11.0    11.0\n",
              "item_price_mean       2599.0    98.0    98.0   450.0   450.0\n",
              "sum_sales_month_shop  1045.0  1045.0  1045.0  1045.0  1045.0\n",
              "item_category_id        19.0    55.0    19.0    23.0    20.0\n",
              "category_month_count  5177.0  9863.0  5177.0  4561.0  3191.0"
            ]
          },
          "metadata": {
            "tags": []
          },
          "execution_count": 144
        }
      ]
    },
    {
      "cell_type": "code",
      "metadata": {
        "id": "REsWQnpYPyie",
        "colab_type": "code",
        "colab": {
          "base_uri": "https://localhost:8080/",
          "height": 359
        },
        "outputId": "d9640c01-62a7-479d-a606-d32f8c2b8a84"
      },
      "source": [
        "# item_monthly_count\n",
        "temp_df = train_ds.groupby(['item_id','month'],as_index=False).agg({'item_count_month':['sum']})\n",
        "temp_df.columns=['item_id','month','item_monthly_count']\n",
        "test['item_monthly_count']=test.merge(temp_df,on=['item_id','month'],how='left')['item_monthly_count']\n",
        "test.head().T"
      ],
      "execution_count": 145,
      "outputs": [
        {
          "output_type": "execute_result",
          "data": {
            "text/html": [
              "<div>\n",
              "<style scoped>\n",
              "    .dataframe tbody tr th:only-of-type {\n",
              "        vertical-align: middle;\n",
              "    }\n",
              "\n",
              "    .dataframe tbody tr th {\n",
              "        vertical-align: top;\n",
              "    }\n",
              "\n",
              "    .dataframe thead th {\n",
              "        text-align: right;\n",
              "    }\n",
              "</style>\n",
              "<table border=\"1\" class=\"dataframe\">\n",
              "  <thead>\n",
              "    <tr style=\"text-align: right;\">\n",
              "      <th></th>\n",
              "      <th>0</th>\n",
              "      <th>1</th>\n",
              "      <th>2</th>\n",
              "      <th>3</th>\n",
              "      <th>4</th>\n",
              "    </tr>\n",
              "  </thead>\n",
              "  <tbody>\n",
              "    <tr>\n",
              "      <th>ID</th>\n",
              "      <td>0.0</td>\n",
              "      <td>1.0</td>\n",
              "      <td>2.0</td>\n",
              "      <td>3.0</td>\n",
              "      <td>4.0</td>\n",
              "    </tr>\n",
              "    <tr>\n",
              "      <th>shop_id</th>\n",
              "      <td>5.0</td>\n",
              "      <td>5.0</td>\n",
              "      <td>5.0</td>\n",
              "      <td>5.0</td>\n",
              "      <td>5.0</td>\n",
              "    </tr>\n",
              "    <tr>\n",
              "      <th>item_id</th>\n",
              "      <td>5037.0</td>\n",
              "      <td>5320.0</td>\n",
              "      <td>5233.0</td>\n",
              "      <td>5232.0</td>\n",
              "      <td>5268.0</td>\n",
              "    </tr>\n",
              "    <tr>\n",
              "      <th>date_block_num</th>\n",
              "      <td>34.0</td>\n",
              "      <td>34.0</td>\n",
              "      <td>34.0</td>\n",
              "      <td>34.0</td>\n",
              "      <td>34.0</td>\n",
              "    </tr>\n",
              "    <tr>\n",
              "      <th>month</th>\n",
              "      <td>11.0</td>\n",
              "      <td>11.0</td>\n",
              "      <td>11.0</td>\n",
              "      <td>11.0</td>\n",
              "      <td>11.0</td>\n",
              "    </tr>\n",
              "    <tr>\n",
              "      <th>item_price_mean</th>\n",
              "      <td>2599.0</td>\n",
              "      <td>98.0</td>\n",
              "      <td>98.0</td>\n",
              "      <td>450.0</td>\n",
              "      <td>450.0</td>\n",
              "    </tr>\n",
              "    <tr>\n",
              "      <th>sum_sales_month_shop</th>\n",
              "      <td>1045.0</td>\n",
              "      <td>1045.0</td>\n",
              "      <td>1045.0</td>\n",
              "      <td>1045.0</td>\n",
              "      <td>1045.0</td>\n",
              "    </tr>\n",
              "    <tr>\n",
              "      <th>item_category_id</th>\n",
              "      <td>19.0</td>\n",
              "      <td>55.0</td>\n",
              "      <td>19.0</td>\n",
              "      <td>23.0</td>\n",
              "      <td>20.0</td>\n",
              "    </tr>\n",
              "    <tr>\n",
              "      <th>category_month_count</th>\n",
              "      <td>5177.0</td>\n",
              "      <td>9863.0</td>\n",
              "      <td>5177.0</td>\n",
              "      <td>4561.0</td>\n",
              "      <td>3191.0</td>\n",
              "    </tr>\n",
              "    <tr>\n",
              "      <th>item_monthly_count</th>\n",
              "      <td>52.0</td>\n",
              "      <td>0.0</td>\n",
              "      <td>0.0</td>\n",
              "      <td>0.0</td>\n",
              "      <td>0.0</td>\n",
              "    </tr>\n",
              "  </tbody>\n",
              "</table>\n",
              "</div>"
            ],
            "text/plain": [
              "                           0       1       2       3       4\n",
              "ID                       0.0     1.0     2.0     3.0     4.0\n",
              "shop_id                  5.0     5.0     5.0     5.0     5.0\n",
              "item_id               5037.0  5320.0  5233.0  5232.0  5268.0\n",
              "date_block_num          34.0    34.0    34.0    34.0    34.0\n",
              "month                   11.0    11.0    11.0    11.0    11.0\n",
              "item_price_mean       2599.0    98.0    98.0   450.0   450.0\n",
              "sum_sales_month_shop  1045.0  1045.0  1045.0  1045.0  1045.0\n",
              "item_category_id        19.0    55.0    19.0    23.0    20.0\n",
              "category_month_count  5177.0  9863.0  5177.0  4561.0  3191.0\n",
              "item_monthly_count      52.0     0.0     0.0     0.0     0.0"
            ]
          },
          "metadata": {
            "tags": []
          },
          "execution_count": 145
        }
      ]
    },
    {
      "cell_type": "code",
      "metadata": {
        "id": "bFJCAoJHv6YY",
        "colab_type": "code",
        "colab": {
          "base_uri": "https://localhost:8080/",
          "height": 390
        },
        "outputId": "f1fb1091-eefe-4146-ec37-ae2070fdacfe"
      },
      "source": [
        "# 1_month_item_cnt\n",
        "temp_df = train_ds.groupby(['shop_id','item_id','month'],as_index=False).agg({'item_count_month':['sum']})\n",
        "temp_df.columns=['shop_id','item_id','month','1_month_item_cnt']\n",
        "temp_df['month'] = temp_df['month']+1\n",
        "test['1_month_item_cnt']=test.merge(temp_df,on=['shop_id','item_id','month'],how='left')['1_month_item_cnt']\n",
        "test.head().T"
      ],
      "execution_count": 146,
      "outputs": [
        {
          "output_type": "execute_result",
          "data": {
            "text/html": [
              "<div>\n",
              "<style scoped>\n",
              "    .dataframe tbody tr th:only-of-type {\n",
              "        vertical-align: middle;\n",
              "    }\n",
              "\n",
              "    .dataframe tbody tr th {\n",
              "        vertical-align: top;\n",
              "    }\n",
              "\n",
              "    .dataframe thead th {\n",
              "        text-align: right;\n",
              "    }\n",
              "</style>\n",
              "<table border=\"1\" class=\"dataframe\">\n",
              "  <thead>\n",
              "    <tr style=\"text-align: right;\">\n",
              "      <th></th>\n",
              "      <th>0</th>\n",
              "      <th>1</th>\n",
              "      <th>2</th>\n",
              "      <th>3</th>\n",
              "      <th>4</th>\n",
              "    </tr>\n",
              "  </thead>\n",
              "  <tbody>\n",
              "    <tr>\n",
              "      <th>ID</th>\n",
              "      <td>0.0</td>\n",
              "      <td>1.0</td>\n",
              "      <td>2.0</td>\n",
              "      <td>3.0</td>\n",
              "      <td>4.0</td>\n",
              "    </tr>\n",
              "    <tr>\n",
              "      <th>shop_id</th>\n",
              "      <td>5.0</td>\n",
              "      <td>5.0</td>\n",
              "      <td>5.0</td>\n",
              "      <td>5.0</td>\n",
              "      <td>5.0</td>\n",
              "    </tr>\n",
              "    <tr>\n",
              "      <th>item_id</th>\n",
              "      <td>5037.0</td>\n",
              "      <td>5320.0</td>\n",
              "      <td>5233.0</td>\n",
              "      <td>5232.0</td>\n",
              "      <td>5268.0</td>\n",
              "    </tr>\n",
              "    <tr>\n",
              "      <th>date_block_num</th>\n",
              "      <td>34.0</td>\n",
              "      <td>34.0</td>\n",
              "      <td>34.0</td>\n",
              "      <td>34.0</td>\n",
              "      <td>34.0</td>\n",
              "    </tr>\n",
              "    <tr>\n",
              "      <th>month</th>\n",
              "      <td>11.0</td>\n",
              "      <td>11.0</td>\n",
              "      <td>11.0</td>\n",
              "      <td>11.0</td>\n",
              "      <td>11.0</td>\n",
              "    </tr>\n",
              "    <tr>\n",
              "      <th>item_price_mean</th>\n",
              "      <td>2599.0</td>\n",
              "      <td>98.0</td>\n",
              "      <td>98.0</td>\n",
              "      <td>450.0</td>\n",
              "      <td>450.0</td>\n",
              "    </tr>\n",
              "    <tr>\n",
              "      <th>sum_sales_month_shop</th>\n",
              "      <td>1045.0</td>\n",
              "      <td>1045.0</td>\n",
              "      <td>1045.0</td>\n",
              "      <td>1045.0</td>\n",
              "      <td>1045.0</td>\n",
              "    </tr>\n",
              "    <tr>\n",
              "      <th>item_category_id</th>\n",
              "      <td>19.0</td>\n",
              "      <td>55.0</td>\n",
              "      <td>19.0</td>\n",
              "      <td>23.0</td>\n",
              "      <td>20.0</td>\n",
              "    </tr>\n",
              "    <tr>\n",
              "      <th>category_month_count</th>\n",
              "      <td>5177.0</td>\n",
              "      <td>9863.0</td>\n",
              "      <td>5177.0</td>\n",
              "      <td>4561.0</td>\n",
              "      <td>3191.0</td>\n",
              "    </tr>\n",
              "    <tr>\n",
              "      <th>item_monthly_count</th>\n",
              "      <td>52.0</td>\n",
              "      <td>0.0</td>\n",
              "      <td>0.0</td>\n",
              "      <td>0.0</td>\n",
              "      <td>0.0</td>\n",
              "    </tr>\n",
              "    <tr>\n",
              "      <th>1_month_item_cnt</th>\n",
              "      <td>0.0</td>\n",
              "      <td>0.0</td>\n",
              "      <td>1.0</td>\n",
              "      <td>0.0</td>\n",
              "      <td>0.0</td>\n",
              "    </tr>\n",
              "  </tbody>\n",
              "</table>\n",
              "</div>"
            ],
            "text/plain": [
              "                           0       1       2       3       4\n",
              "ID                       0.0     1.0     2.0     3.0     4.0\n",
              "shop_id                  5.0     5.0     5.0     5.0     5.0\n",
              "item_id               5037.0  5320.0  5233.0  5232.0  5268.0\n",
              "date_block_num          34.0    34.0    34.0    34.0    34.0\n",
              "month                   11.0    11.0    11.0    11.0    11.0\n",
              "item_price_mean       2599.0    98.0    98.0   450.0   450.0\n",
              "sum_sales_month_shop  1045.0  1045.0  1045.0  1045.0  1045.0\n",
              "item_category_id        19.0    55.0    19.0    23.0    20.0\n",
              "category_month_count  5177.0  9863.0  5177.0  4561.0  3191.0\n",
              "item_monthly_count      52.0     0.0     0.0     0.0     0.0\n",
              "1_month_item_cnt         0.0     0.0     1.0     0.0     0.0"
            ]
          },
          "metadata": {
            "tags": []
          },
          "execution_count": 146
        }
      ]
    },
    {
      "cell_type": "code",
      "metadata": {
        "id": "bAN6vA0Hyw7V",
        "colab_type": "code",
        "colab": {
          "base_uri": "https://localhost:8080/",
          "height": 421
        },
        "outputId": "3506b6bf-05d5-4b0f-da77-2982e78c7769"
      },
      "source": [
        "# 2_month_item_cnt\n",
        "temp_df = train_ds.groupby(['shop_id','item_id','month'],as_index=False).agg({'item_count_month':['sum']})\n",
        "temp_df.columns=['shop_id','item_id','month','2_month_item_cnt']\n",
        "temp_df['month'] = temp_df['month']+2\n",
        "test['2_month_item_cnt']=test.merge(temp_df,on=['shop_id','item_id','month'],how='left')['2_month_item_cnt']\n",
        "test.head().T"
      ],
      "execution_count": 147,
      "outputs": [
        {
          "output_type": "execute_result",
          "data": {
            "text/html": [
              "<div>\n",
              "<style scoped>\n",
              "    .dataframe tbody tr th:only-of-type {\n",
              "        vertical-align: middle;\n",
              "    }\n",
              "\n",
              "    .dataframe tbody tr th {\n",
              "        vertical-align: top;\n",
              "    }\n",
              "\n",
              "    .dataframe thead th {\n",
              "        text-align: right;\n",
              "    }\n",
              "</style>\n",
              "<table border=\"1\" class=\"dataframe\">\n",
              "  <thead>\n",
              "    <tr style=\"text-align: right;\">\n",
              "      <th></th>\n",
              "      <th>0</th>\n",
              "      <th>1</th>\n",
              "      <th>2</th>\n",
              "      <th>3</th>\n",
              "      <th>4</th>\n",
              "    </tr>\n",
              "  </thead>\n",
              "  <tbody>\n",
              "    <tr>\n",
              "      <th>ID</th>\n",
              "      <td>0.0</td>\n",
              "      <td>1.0</td>\n",
              "      <td>2.0</td>\n",
              "      <td>3.0</td>\n",
              "      <td>4.0</td>\n",
              "    </tr>\n",
              "    <tr>\n",
              "      <th>shop_id</th>\n",
              "      <td>5.0</td>\n",
              "      <td>5.0</td>\n",
              "      <td>5.0</td>\n",
              "      <td>5.0</td>\n",
              "      <td>5.0</td>\n",
              "    </tr>\n",
              "    <tr>\n",
              "      <th>item_id</th>\n",
              "      <td>5037.0</td>\n",
              "      <td>5320.0</td>\n",
              "      <td>5233.0</td>\n",
              "      <td>5232.0</td>\n",
              "      <td>5268.0</td>\n",
              "    </tr>\n",
              "    <tr>\n",
              "      <th>date_block_num</th>\n",
              "      <td>34.0</td>\n",
              "      <td>34.0</td>\n",
              "      <td>34.0</td>\n",
              "      <td>34.0</td>\n",
              "      <td>34.0</td>\n",
              "    </tr>\n",
              "    <tr>\n",
              "      <th>month</th>\n",
              "      <td>11.0</td>\n",
              "      <td>11.0</td>\n",
              "      <td>11.0</td>\n",
              "      <td>11.0</td>\n",
              "      <td>11.0</td>\n",
              "    </tr>\n",
              "    <tr>\n",
              "      <th>item_price_mean</th>\n",
              "      <td>2599.0</td>\n",
              "      <td>98.0</td>\n",
              "      <td>98.0</td>\n",
              "      <td>450.0</td>\n",
              "      <td>450.0</td>\n",
              "    </tr>\n",
              "    <tr>\n",
              "      <th>sum_sales_month_shop</th>\n",
              "      <td>1045.0</td>\n",
              "      <td>1045.0</td>\n",
              "      <td>1045.0</td>\n",
              "      <td>1045.0</td>\n",
              "      <td>1045.0</td>\n",
              "    </tr>\n",
              "    <tr>\n",
              "      <th>item_category_id</th>\n",
              "      <td>19.0</td>\n",
              "      <td>55.0</td>\n",
              "      <td>19.0</td>\n",
              "      <td>23.0</td>\n",
              "      <td>20.0</td>\n",
              "    </tr>\n",
              "    <tr>\n",
              "      <th>category_month_count</th>\n",
              "      <td>5177.0</td>\n",
              "      <td>9863.0</td>\n",
              "      <td>5177.0</td>\n",
              "      <td>4561.0</td>\n",
              "      <td>3191.0</td>\n",
              "    </tr>\n",
              "    <tr>\n",
              "      <th>item_monthly_count</th>\n",
              "      <td>52.0</td>\n",
              "      <td>0.0</td>\n",
              "      <td>0.0</td>\n",
              "      <td>0.0</td>\n",
              "      <td>0.0</td>\n",
              "    </tr>\n",
              "    <tr>\n",
              "      <th>1_month_item_cnt</th>\n",
              "      <td>0.0</td>\n",
              "      <td>0.0</td>\n",
              "      <td>1.0</td>\n",
              "      <td>0.0</td>\n",
              "      <td>0.0</td>\n",
              "    </tr>\n",
              "    <tr>\n",
              "      <th>2_month_item_cnt</th>\n",
              "      <td>2.0</td>\n",
              "      <td>0.0</td>\n",
              "      <td>3.0</td>\n",
              "      <td>0.0</td>\n",
              "      <td>0.0</td>\n",
              "    </tr>\n",
              "  </tbody>\n",
              "</table>\n",
              "</div>"
            ],
            "text/plain": [
              "                           0       1       2       3       4\n",
              "ID                       0.0     1.0     2.0     3.0     4.0\n",
              "shop_id                  5.0     5.0     5.0     5.0     5.0\n",
              "item_id               5037.0  5320.0  5233.0  5232.0  5268.0\n",
              "date_block_num          34.0    34.0    34.0    34.0    34.0\n",
              "month                   11.0    11.0    11.0    11.0    11.0\n",
              "item_price_mean       2599.0    98.0    98.0   450.0   450.0\n",
              "sum_sales_month_shop  1045.0  1045.0  1045.0  1045.0  1045.0\n",
              "item_category_id        19.0    55.0    19.0    23.0    20.0\n",
              "category_month_count  5177.0  9863.0  5177.0  4561.0  3191.0\n",
              "item_monthly_count      52.0     0.0     0.0     0.0     0.0\n",
              "1_month_item_cnt         0.0     0.0     1.0     0.0     0.0\n",
              "2_month_item_cnt         2.0     0.0     3.0     0.0     0.0"
            ]
          },
          "metadata": {
            "tags": []
          },
          "execution_count": 147
        }
      ]
    },
    {
      "cell_type": "code",
      "metadata": {
        "id": "9kpDFN3q0C9X",
        "colab_type": "code",
        "colab": {
          "base_uri": "https://localhost:8080/",
          "height": 452
        },
        "outputId": "59f5e0be-b791-4e97-d590-c1dc46619d22"
      },
      "source": [
        "# 3_month_item_cnt\n",
        "temp_df = train_ds.groupby(['shop_id','item_id','month'],as_index=False).agg({'item_count_month':['sum']})\n",
        "temp_df.columns=['shop_id','item_id','month','3_month_item_cnt']\n",
        "temp_df['month'] = temp_df['month']+3\n",
        "test['3_month_item_cnt']=test.merge(temp_df,on=['shop_id','item_id','month'],how='left')['3_month_item_cnt']\n",
        "test.head().T"
      ],
      "execution_count": 148,
      "outputs": [
        {
          "output_type": "execute_result",
          "data": {
            "text/html": [
              "<div>\n",
              "<style scoped>\n",
              "    .dataframe tbody tr th:only-of-type {\n",
              "        vertical-align: middle;\n",
              "    }\n",
              "\n",
              "    .dataframe tbody tr th {\n",
              "        vertical-align: top;\n",
              "    }\n",
              "\n",
              "    .dataframe thead th {\n",
              "        text-align: right;\n",
              "    }\n",
              "</style>\n",
              "<table border=\"1\" class=\"dataframe\">\n",
              "  <thead>\n",
              "    <tr style=\"text-align: right;\">\n",
              "      <th></th>\n",
              "      <th>0</th>\n",
              "      <th>1</th>\n",
              "      <th>2</th>\n",
              "      <th>3</th>\n",
              "      <th>4</th>\n",
              "    </tr>\n",
              "  </thead>\n",
              "  <tbody>\n",
              "    <tr>\n",
              "      <th>ID</th>\n",
              "      <td>0.0</td>\n",
              "      <td>1.0</td>\n",
              "      <td>2.0</td>\n",
              "      <td>3.0</td>\n",
              "      <td>4.0</td>\n",
              "    </tr>\n",
              "    <tr>\n",
              "      <th>shop_id</th>\n",
              "      <td>5.0</td>\n",
              "      <td>5.0</td>\n",
              "      <td>5.0</td>\n",
              "      <td>5.0</td>\n",
              "      <td>5.0</td>\n",
              "    </tr>\n",
              "    <tr>\n",
              "      <th>item_id</th>\n",
              "      <td>5037.0</td>\n",
              "      <td>5320.0</td>\n",
              "      <td>5233.0</td>\n",
              "      <td>5232.0</td>\n",
              "      <td>5268.0</td>\n",
              "    </tr>\n",
              "    <tr>\n",
              "      <th>date_block_num</th>\n",
              "      <td>34.0</td>\n",
              "      <td>34.0</td>\n",
              "      <td>34.0</td>\n",
              "      <td>34.0</td>\n",
              "      <td>34.0</td>\n",
              "    </tr>\n",
              "    <tr>\n",
              "      <th>month</th>\n",
              "      <td>11.0</td>\n",
              "      <td>11.0</td>\n",
              "      <td>11.0</td>\n",
              "      <td>11.0</td>\n",
              "      <td>11.0</td>\n",
              "    </tr>\n",
              "    <tr>\n",
              "      <th>item_price_mean</th>\n",
              "      <td>2599.0</td>\n",
              "      <td>98.0</td>\n",
              "      <td>98.0</td>\n",
              "      <td>450.0</td>\n",
              "      <td>450.0</td>\n",
              "    </tr>\n",
              "    <tr>\n",
              "      <th>sum_sales_month_shop</th>\n",
              "      <td>1045.0</td>\n",
              "      <td>1045.0</td>\n",
              "      <td>1045.0</td>\n",
              "      <td>1045.0</td>\n",
              "      <td>1045.0</td>\n",
              "    </tr>\n",
              "    <tr>\n",
              "      <th>item_category_id</th>\n",
              "      <td>19.0</td>\n",
              "      <td>55.0</td>\n",
              "      <td>19.0</td>\n",
              "      <td>23.0</td>\n",
              "      <td>20.0</td>\n",
              "    </tr>\n",
              "    <tr>\n",
              "      <th>category_month_count</th>\n",
              "      <td>5177.0</td>\n",
              "      <td>9863.0</td>\n",
              "      <td>5177.0</td>\n",
              "      <td>4561.0</td>\n",
              "      <td>3191.0</td>\n",
              "    </tr>\n",
              "    <tr>\n",
              "      <th>item_monthly_count</th>\n",
              "      <td>52.0</td>\n",
              "      <td>0.0</td>\n",
              "      <td>0.0</td>\n",
              "      <td>0.0</td>\n",
              "      <td>0.0</td>\n",
              "    </tr>\n",
              "    <tr>\n",
              "      <th>1_month_item_cnt</th>\n",
              "      <td>0.0</td>\n",
              "      <td>0.0</td>\n",
              "      <td>1.0</td>\n",
              "      <td>0.0</td>\n",
              "      <td>0.0</td>\n",
              "    </tr>\n",
              "    <tr>\n",
              "      <th>2_month_item_cnt</th>\n",
              "      <td>2.0</td>\n",
              "      <td>0.0</td>\n",
              "      <td>3.0</td>\n",
              "      <td>0.0</td>\n",
              "      <td>0.0</td>\n",
              "    </tr>\n",
              "    <tr>\n",
              "      <th>3_month_item_cnt</th>\n",
              "      <td>3.0</td>\n",
              "      <td>0.0</td>\n",
              "      <td>1.0</td>\n",
              "      <td>1.0</td>\n",
              "      <td>0.0</td>\n",
              "    </tr>\n",
              "  </tbody>\n",
              "</table>\n",
              "</div>"
            ],
            "text/plain": [
              "                           0       1       2       3       4\n",
              "ID                       0.0     1.0     2.0     3.0     4.0\n",
              "shop_id                  5.0     5.0     5.0     5.0     5.0\n",
              "item_id               5037.0  5320.0  5233.0  5232.0  5268.0\n",
              "date_block_num          34.0    34.0    34.0    34.0    34.0\n",
              "month                   11.0    11.0    11.0    11.0    11.0\n",
              "item_price_mean       2599.0    98.0    98.0   450.0   450.0\n",
              "sum_sales_month_shop  1045.0  1045.0  1045.0  1045.0  1045.0\n",
              "item_category_id        19.0    55.0    19.0    23.0    20.0\n",
              "category_month_count  5177.0  9863.0  5177.0  4561.0  3191.0\n",
              "item_monthly_count      52.0     0.0     0.0     0.0     0.0\n",
              "1_month_item_cnt         0.0     0.0     1.0     0.0     0.0\n",
              "2_month_item_cnt         2.0     0.0     3.0     0.0     0.0\n",
              "3_month_item_cnt         3.0     0.0     1.0     1.0     0.0"
            ]
          },
          "metadata": {
            "tags": []
          },
          "execution_count": 148
        }
      ]
    },
    {
      "cell_type": "code",
      "metadata": {
        "id": "6rqn75Kh03Lj",
        "colab_type": "code",
        "colab": {
          "base_uri": "https://localhost:8080/",
          "height": 514
        },
        "outputId": "0b8612a4-9b79-4d8b-cbff-454b76dd7746"
      },
      "source": [
        "# shop_id_sum\n",
        "temp_df = train_ds.groupby(['shop_id'],as_index=False).agg({'item_count_month':['sum','mean']})\n",
        "temp_df.columns = ['shop_id','shop_id_sum','shop_id_mean']\n",
        "test['shop_id_sum']=test.merge(temp_df,on=['shop_id'],how='left')['shop_id_sum']\n",
        "test['shop_id_mean']=test.merge(temp_df,on=['shop_id'],how='left')['shop_id_mean']\n",
        "test.head().T"
      ],
      "execution_count": 149,
      "outputs": [
        {
          "output_type": "execute_result",
          "data": {
            "text/html": [
              "<div>\n",
              "<style scoped>\n",
              "    .dataframe tbody tr th:only-of-type {\n",
              "        vertical-align: middle;\n",
              "    }\n",
              "\n",
              "    .dataframe tbody tr th {\n",
              "        vertical-align: top;\n",
              "    }\n",
              "\n",
              "    .dataframe thead th {\n",
              "        text-align: right;\n",
              "    }\n",
              "</style>\n",
              "<table border=\"1\" class=\"dataframe\">\n",
              "  <thead>\n",
              "    <tr style=\"text-align: right;\">\n",
              "      <th></th>\n",
              "      <th>0</th>\n",
              "      <th>1</th>\n",
              "      <th>2</th>\n",
              "      <th>3</th>\n",
              "      <th>4</th>\n",
              "    </tr>\n",
              "  </thead>\n",
              "  <tbody>\n",
              "    <tr>\n",
              "      <th>ID</th>\n",
              "      <td>0.000000</td>\n",
              "      <td>1.000000</td>\n",
              "      <td>2.000000</td>\n",
              "      <td>3.000000</td>\n",
              "      <td>4.000000</td>\n",
              "    </tr>\n",
              "    <tr>\n",
              "      <th>shop_id</th>\n",
              "      <td>5.000000</td>\n",
              "      <td>5.000000</td>\n",
              "      <td>5.000000</td>\n",
              "      <td>5.000000</td>\n",
              "      <td>5.000000</td>\n",
              "    </tr>\n",
              "    <tr>\n",
              "      <th>item_id</th>\n",
              "      <td>5037.000000</td>\n",
              "      <td>5320.000000</td>\n",
              "      <td>5233.000000</td>\n",
              "      <td>5232.000000</td>\n",
              "      <td>5268.000000</td>\n",
              "    </tr>\n",
              "    <tr>\n",
              "      <th>date_block_num</th>\n",
              "      <td>34.000000</td>\n",
              "      <td>34.000000</td>\n",
              "      <td>34.000000</td>\n",
              "      <td>34.000000</td>\n",
              "      <td>34.000000</td>\n",
              "    </tr>\n",
              "    <tr>\n",
              "      <th>month</th>\n",
              "      <td>11.000000</td>\n",
              "      <td>11.000000</td>\n",
              "      <td>11.000000</td>\n",
              "      <td>11.000000</td>\n",
              "      <td>11.000000</td>\n",
              "    </tr>\n",
              "    <tr>\n",
              "      <th>item_price_mean</th>\n",
              "      <td>2599.000000</td>\n",
              "      <td>98.000000</td>\n",
              "      <td>98.000000</td>\n",
              "      <td>450.000000</td>\n",
              "      <td>450.000000</td>\n",
              "    </tr>\n",
              "    <tr>\n",
              "      <th>sum_sales_month_shop</th>\n",
              "      <td>1045.000000</td>\n",
              "      <td>1045.000000</td>\n",
              "      <td>1045.000000</td>\n",
              "      <td>1045.000000</td>\n",
              "      <td>1045.000000</td>\n",
              "    </tr>\n",
              "    <tr>\n",
              "      <th>item_category_id</th>\n",
              "      <td>19.000000</td>\n",
              "      <td>55.000000</td>\n",
              "      <td>19.000000</td>\n",
              "      <td>23.000000</td>\n",
              "      <td>20.000000</td>\n",
              "    </tr>\n",
              "    <tr>\n",
              "      <th>category_month_count</th>\n",
              "      <td>5177.000000</td>\n",
              "      <td>9863.000000</td>\n",
              "      <td>5177.000000</td>\n",
              "      <td>4561.000000</td>\n",
              "      <td>3191.000000</td>\n",
              "    </tr>\n",
              "    <tr>\n",
              "      <th>item_monthly_count</th>\n",
              "      <td>52.000000</td>\n",
              "      <td>0.000000</td>\n",
              "      <td>0.000000</td>\n",
              "      <td>0.000000</td>\n",
              "      <td>0.000000</td>\n",
              "    </tr>\n",
              "    <tr>\n",
              "      <th>1_month_item_cnt</th>\n",
              "      <td>0.000000</td>\n",
              "      <td>0.000000</td>\n",
              "      <td>1.000000</td>\n",
              "      <td>0.000000</td>\n",
              "      <td>0.000000</td>\n",
              "    </tr>\n",
              "    <tr>\n",
              "      <th>2_month_item_cnt</th>\n",
              "      <td>2.000000</td>\n",
              "      <td>0.000000</td>\n",
              "      <td>3.000000</td>\n",
              "      <td>0.000000</td>\n",
              "      <td>0.000000</td>\n",
              "    </tr>\n",
              "    <tr>\n",
              "      <th>3_month_item_cnt</th>\n",
              "      <td>3.000000</td>\n",
              "      <td>0.000000</td>\n",
              "      <td>1.000000</td>\n",
              "      <td>1.000000</td>\n",
              "      <td>0.000000</td>\n",
              "    </tr>\n",
              "    <tr>\n",
              "      <th>shop_id_sum</th>\n",
              "      <td>18416.000000</td>\n",
              "      <td>18416.000000</td>\n",
              "      <td>18416.000000</td>\n",
              "      <td>18416.000000</td>\n",
              "      <td>18416.000000</td>\n",
              "    </tr>\n",
              "    <tr>\n",
              "      <th>shop_id_mean</th>\n",
              "      <td>0.301916</td>\n",
              "      <td>0.301916</td>\n",
              "      <td>0.301916</td>\n",
              "      <td>0.301916</td>\n",
              "      <td>0.301916</td>\n",
              "    </tr>\n",
              "  </tbody>\n",
              "</table>\n",
              "</div>"
            ],
            "text/plain": [
              "                                 0             1  ...             3             4\n",
              "ID                        0.000000      1.000000  ...      3.000000      4.000000\n",
              "shop_id                   5.000000      5.000000  ...      5.000000      5.000000\n",
              "item_id                5037.000000   5320.000000  ...   5232.000000   5268.000000\n",
              "date_block_num           34.000000     34.000000  ...     34.000000     34.000000\n",
              "month                    11.000000     11.000000  ...     11.000000     11.000000\n",
              "item_price_mean        2599.000000     98.000000  ...    450.000000    450.000000\n",
              "sum_sales_month_shop   1045.000000   1045.000000  ...   1045.000000   1045.000000\n",
              "item_category_id         19.000000     55.000000  ...     23.000000     20.000000\n",
              "category_month_count   5177.000000   9863.000000  ...   4561.000000   3191.000000\n",
              "item_monthly_count       52.000000      0.000000  ...      0.000000      0.000000\n",
              "1_month_item_cnt          0.000000      0.000000  ...      0.000000      0.000000\n",
              "2_month_item_cnt          2.000000      0.000000  ...      0.000000      0.000000\n",
              "3_month_item_cnt          3.000000      0.000000  ...      1.000000      0.000000\n",
              "shop_id_sum           18416.000000  18416.000000  ...  18416.000000  18416.000000\n",
              "shop_id_mean              0.301916      0.301916  ...      0.301916      0.301916\n",
              "\n",
              "[15 rows x 5 columns]"
            ]
          },
          "metadata": {
            "tags": []
          },
          "execution_count": 149
        }
      ]
    },
    {
      "cell_type": "code",
      "metadata": {
        "id": "8KSu8j832fjE",
        "colab_type": "code",
        "colab": {
          "base_uri": "https://localhost:8080/",
          "height": 576
        },
        "outputId": "ad835274-ce78-4ca2-f570-68b1990411dc"
      },
      "source": [
        "# item_id\n",
        "temp_df = train_ds.groupby(['item_id'],as_index=False).agg({'item_count_month':['sum','mean']})\n",
        "temp_df.columns = ['item_id','item_id_sum','item_id_mean']\n",
        "test['item_id_sum']=test.merge(temp_df,on=['item_id'],how='left')['item_id_sum']\n",
        "test['item_id_mean']=test.merge(temp_df,on=['item_id'],how='left')['item_id_mean']\n",
        "test.head().T"
      ],
      "execution_count": 150,
      "outputs": [
        {
          "output_type": "execute_result",
          "data": {
            "text/html": [
              "<div>\n",
              "<style scoped>\n",
              "    .dataframe tbody tr th:only-of-type {\n",
              "        vertical-align: middle;\n",
              "    }\n",
              "\n",
              "    .dataframe tbody tr th {\n",
              "        vertical-align: top;\n",
              "    }\n",
              "\n",
              "    .dataframe thead th {\n",
              "        text-align: right;\n",
              "    }\n",
              "</style>\n",
              "<table border=\"1\" class=\"dataframe\">\n",
              "  <thead>\n",
              "    <tr style=\"text-align: right;\">\n",
              "      <th></th>\n",
              "      <th>0</th>\n",
              "      <th>1</th>\n",
              "      <th>2</th>\n",
              "      <th>3</th>\n",
              "      <th>4</th>\n",
              "    </tr>\n",
              "  </thead>\n",
              "  <tbody>\n",
              "    <tr>\n",
              "      <th>ID</th>\n",
              "      <td>0.000000</td>\n",
              "      <td>1.000000</td>\n",
              "      <td>2.000000</td>\n",
              "      <td>3.000000</td>\n",
              "      <td>4.000000</td>\n",
              "    </tr>\n",
              "    <tr>\n",
              "      <th>shop_id</th>\n",
              "      <td>5.000000</td>\n",
              "      <td>5.000000</td>\n",
              "      <td>5.000000</td>\n",
              "      <td>5.000000</td>\n",
              "      <td>5.000000</td>\n",
              "    </tr>\n",
              "    <tr>\n",
              "      <th>item_id</th>\n",
              "      <td>5037.000000</td>\n",
              "      <td>5320.000000</td>\n",
              "      <td>5233.000000</td>\n",
              "      <td>5232.000000</td>\n",
              "      <td>5268.000000</td>\n",
              "    </tr>\n",
              "    <tr>\n",
              "      <th>date_block_num</th>\n",
              "      <td>34.000000</td>\n",
              "      <td>34.000000</td>\n",
              "      <td>34.000000</td>\n",
              "      <td>34.000000</td>\n",
              "      <td>34.000000</td>\n",
              "    </tr>\n",
              "    <tr>\n",
              "      <th>month</th>\n",
              "      <td>11.000000</td>\n",
              "      <td>11.000000</td>\n",
              "      <td>11.000000</td>\n",
              "      <td>11.000000</td>\n",
              "      <td>11.000000</td>\n",
              "    </tr>\n",
              "    <tr>\n",
              "      <th>item_price_mean</th>\n",
              "      <td>2599.000000</td>\n",
              "      <td>98.000000</td>\n",
              "      <td>98.000000</td>\n",
              "      <td>450.000000</td>\n",
              "      <td>450.000000</td>\n",
              "    </tr>\n",
              "    <tr>\n",
              "      <th>sum_sales_month_shop</th>\n",
              "      <td>1045.000000</td>\n",
              "      <td>1045.000000</td>\n",
              "      <td>1045.000000</td>\n",
              "      <td>1045.000000</td>\n",
              "      <td>1045.000000</td>\n",
              "    </tr>\n",
              "    <tr>\n",
              "      <th>item_category_id</th>\n",
              "      <td>19.000000</td>\n",
              "      <td>55.000000</td>\n",
              "      <td>19.000000</td>\n",
              "      <td>23.000000</td>\n",
              "      <td>20.000000</td>\n",
              "    </tr>\n",
              "    <tr>\n",
              "      <th>category_month_count</th>\n",
              "      <td>5177.000000</td>\n",
              "      <td>9863.000000</td>\n",
              "      <td>5177.000000</td>\n",
              "      <td>4561.000000</td>\n",
              "      <td>3191.000000</td>\n",
              "    </tr>\n",
              "    <tr>\n",
              "      <th>item_monthly_count</th>\n",
              "      <td>52.000000</td>\n",
              "      <td>0.000000</td>\n",
              "      <td>0.000000</td>\n",
              "      <td>0.000000</td>\n",
              "      <td>0.000000</td>\n",
              "    </tr>\n",
              "    <tr>\n",
              "      <th>1_month_item_cnt</th>\n",
              "      <td>0.000000</td>\n",
              "      <td>0.000000</td>\n",
              "      <td>1.000000</td>\n",
              "      <td>0.000000</td>\n",
              "      <td>0.000000</td>\n",
              "    </tr>\n",
              "    <tr>\n",
              "      <th>2_month_item_cnt</th>\n",
              "      <td>2.000000</td>\n",
              "      <td>0.000000</td>\n",
              "      <td>3.000000</td>\n",
              "      <td>0.000000</td>\n",
              "      <td>0.000000</td>\n",
              "    </tr>\n",
              "    <tr>\n",
              "      <th>3_month_item_cnt</th>\n",
              "      <td>3.000000</td>\n",
              "      <td>0.000000</td>\n",
              "      <td>1.000000</td>\n",
              "      <td>1.000000</td>\n",
              "      <td>0.000000</td>\n",
              "    </tr>\n",
              "    <tr>\n",
              "      <th>shop_id_sum</th>\n",
              "      <td>18416.000000</td>\n",
              "      <td>18416.000000</td>\n",
              "      <td>18416.000000</td>\n",
              "      <td>18416.000000</td>\n",
              "      <td>18416.000000</td>\n",
              "    </tr>\n",
              "    <tr>\n",
              "      <th>shop_id_mean</th>\n",
              "      <td>0.301916</td>\n",
              "      <td>0.301916</td>\n",
              "      <td>0.301916</td>\n",
              "      <td>0.301916</td>\n",
              "      <td>0.301916</td>\n",
              "    </tr>\n",
              "    <tr>\n",
              "      <th>item_id_sum</th>\n",
              "      <td>1062.000000</td>\n",
              "      <td>0.000000</td>\n",
              "      <td>459.000000</td>\n",
              "      <td>137.000000</td>\n",
              "      <td>0.000000</td>\n",
              "    </tr>\n",
              "    <tr>\n",
              "      <th>item_id_mean</th>\n",
              "      <td>2.046243</td>\n",
              "      <td>0.000000</td>\n",
              "      <td>0.929150</td>\n",
              "      <td>0.273453</td>\n",
              "      <td>0.000000</td>\n",
              "    </tr>\n",
              "  </tbody>\n",
              "</table>\n",
              "</div>"
            ],
            "text/plain": [
              "                                 0             1  ...             3             4\n",
              "ID                        0.000000      1.000000  ...      3.000000      4.000000\n",
              "shop_id                   5.000000      5.000000  ...      5.000000      5.000000\n",
              "item_id                5037.000000   5320.000000  ...   5232.000000   5268.000000\n",
              "date_block_num           34.000000     34.000000  ...     34.000000     34.000000\n",
              "month                    11.000000     11.000000  ...     11.000000     11.000000\n",
              "item_price_mean        2599.000000     98.000000  ...    450.000000    450.000000\n",
              "sum_sales_month_shop   1045.000000   1045.000000  ...   1045.000000   1045.000000\n",
              "item_category_id         19.000000     55.000000  ...     23.000000     20.000000\n",
              "category_month_count   5177.000000   9863.000000  ...   4561.000000   3191.000000\n",
              "item_monthly_count       52.000000      0.000000  ...      0.000000      0.000000\n",
              "1_month_item_cnt          0.000000      0.000000  ...      0.000000      0.000000\n",
              "2_month_item_cnt          2.000000      0.000000  ...      0.000000      0.000000\n",
              "3_month_item_cnt          3.000000      0.000000  ...      1.000000      0.000000\n",
              "shop_id_sum           18416.000000  18416.000000  ...  18416.000000  18416.000000\n",
              "shop_id_mean              0.301916      0.301916  ...      0.301916      0.301916\n",
              "item_id_sum            1062.000000      0.000000  ...    137.000000      0.000000\n",
              "item_id_mean              2.046243      0.000000  ...      0.273453      0.000000\n",
              "\n",
              "[17 rows x 5 columns]"
            ]
          },
          "metadata": {
            "tags": []
          },
          "execution_count": 150
        }
      ]
    },
    {
      "cell_type": "code",
      "metadata": {
        "id": "Z27MNcFw6dLw",
        "colab_type": "code",
        "colab": {
          "base_uri": "https://localhost:8080/",
          "height": 576
        },
        "outputId": "2bb53d31-c499-45ff-f45b-c466c5705a7a"
      },
      "source": [
        "train_ds.head().T"
      ],
      "execution_count": 151,
      "outputs": [
        {
          "output_type": "execute_result",
          "data": {
            "text/html": [
              "<div>\n",
              "<style scoped>\n",
              "    .dataframe tbody tr th:only-of-type {\n",
              "        vertical-align: middle;\n",
              "    }\n",
              "\n",
              "    .dataframe tbody tr th {\n",
              "        vertical-align: top;\n",
              "    }\n",
              "\n",
              "    .dataframe thead th {\n",
              "        text-align: right;\n",
              "    }\n",
              "</style>\n",
              "<table border=\"1\" class=\"dataframe\">\n",
              "  <thead>\n",
              "    <tr style=\"text-align: right;\">\n",
              "      <th></th>\n",
              "      <th>0</th>\n",
              "      <th>1</th>\n",
              "      <th>2</th>\n",
              "      <th>3</th>\n",
              "      <th>4</th>\n",
              "    </tr>\n",
              "  </thead>\n",
              "  <tbody>\n",
              "    <tr>\n",
              "      <th>date_block_num</th>\n",
              "      <td>0.000000</td>\n",
              "      <td>12.000000</td>\n",
              "      <td>0.000000</td>\n",
              "      <td>0.000000</td>\n",
              "      <td>12.000000</td>\n",
              "    </tr>\n",
              "    <tr>\n",
              "      <th>shop_id</th>\n",
              "      <td>2.000000</td>\n",
              "      <td>2.000000</td>\n",
              "      <td>2.000000</td>\n",
              "      <td>2.000000</td>\n",
              "      <td>2.000000</td>\n",
              "    </tr>\n",
              "    <tr>\n",
              "      <th>item_id</th>\n",
              "      <td>33.000000</td>\n",
              "      <td>33.000000</td>\n",
              "      <td>491.000000</td>\n",
              "      <td>1007.000000</td>\n",
              "      <td>1007.000000</td>\n",
              "    </tr>\n",
              "    <tr>\n",
              "      <th>item_price_mean</th>\n",
              "      <td>499.000000</td>\n",
              "      <td>199.000000</td>\n",
              "      <td>600.000000</td>\n",
              "      <td>449.000000</td>\n",
              "      <td>599.000000</td>\n",
              "    </tr>\n",
              "    <tr>\n",
              "      <th>item_count_month</th>\n",
              "      <td>1.000000</td>\n",
              "      <td>1.000000</td>\n",
              "      <td>1.000000</td>\n",
              "      <td>3.000000</td>\n",
              "      <td>1.000000</td>\n",
              "    </tr>\n",
              "    <tr>\n",
              "      <th>month</th>\n",
              "      <td>1.000000</td>\n",
              "      <td>1.000000</td>\n",
              "      <td>1.000000</td>\n",
              "      <td>1.000000</td>\n",
              "      <td>1.000000</td>\n",
              "    </tr>\n",
              "    <tr>\n",
              "      <th>sum_sales_month_shop</th>\n",
              "      <td>2894.000000</td>\n",
              "      <td>2894.000000</td>\n",
              "      <td>2894.000000</td>\n",
              "      <td>2894.000000</td>\n",
              "      <td>2894.000000</td>\n",
              "    </tr>\n",
              "    <tr>\n",
              "      <th>item_category_id</th>\n",
              "      <td>37.000000</td>\n",
              "      <td>37.000000</td>\n",
              "      <td>73.000000</td>\n",
              "      <td>67.000000</td>\n",
              "      <td>67.000000</td>\n",
              "    </tr>\n",
              "    <tr>\n",
              "      <th>category_month_count</th>\n",
              "      <td>19662.000000</td>\n",
              "      <td>19662.000000</td>\n",
              "      <td>890.000000</td>\n",
              "      <td>4596.000000</td>\n",
              "      <td>4596.000000</td>\n",
              "    </tr>\n",
              "    <tr>\n",
              "      <th>item_monthly_count</th>\n",
              "      <td>122.000000</td>\n",
              "      <td>122.000000</td>\n",
              "      <td>80.000000</td>\n",
              "      <td>127.000000</td>\n",
              "      <td>127.000000</td>\n",
              "    </tr>\n",
              "    <tr>\n",
              "      <th>1_month_item_cnt</th>\n",
              "      <td>0.000000</td>\n",
              "      <td>1.000000</td>\n",
              "      <td>0.000000</td>\n",
              "      <td>0.000000</td>\n",
              "      <td>0.000000</td>\n",
              "    </tr>\n",
              "    <tr>\n",
              "      <th>2_month_item_cnt</th>\n",
              "      <td>0.000000</td>\n",
              "      <td>0.000000</td>\n",
              "      <td>1.000000</td>\n",
              "      <td>0.000000</td>\n",
              "      <td>0.000000</td>\n",
              "    </tr>\n",
              "    <tr>\n",
              "      <th>3_month_item_cnt</th>\n",
              "      <td>0.000000</td>\n",
              "      <td>0.000000</td>\n",
              "      <td>0.000000</td>\n",
              "      <td>1.000000</td>\n",
              "      <td>0.000000</td>\n",
              "    </tr>\n",
              "    <tr>\n",
              "      <th>shop_id_sum</th>\n",
              "      <td>17293.000000</td>\n",
              "      <td>17293.000000</td>\n",
              "      <td>17293.000000</td>\n",
              "      <td>17293.000000</td>\n",
              "      <td>17293.000000</td>\n",
              "    </tr>\n",
              "    <tr>\n",
              "      <th>shop_id_mean</th>\n",
              "      <td>0.276454</td>\n",
              "      <td>0.276454</td>\n",
              "      <td>0.276454</td>\n",
              "      <td>0.276454</td>\n",
              "      <td>0.276454</td>\n",
              "    </tr>\n",
              "    <tr>\n",
              "      <th>item_id_sum</th>\n",
              "      <td>701.000000</td>\n",
              "      <td>701.000000</td>\n",
              "      <td>605.000000</td>\n",
              "      <td>1202.000000</td>\n",
              "      <td>1202.000000</td>\n",
              "    </tr>\n",
              "    <tr>\n",
              "      <th>item_id_mean</th>\n",
              "      <td>1.057315</td>\n",
              "      <td>1.057315</td>\n",
              "      <td>0.969551</td>\n",
              "      <td>1.762463</td>\n",
              "      <td>1.762463</td>\n",
              "    </tr>\n",
              "  </tbody>\n",
              "</table>\n",
              "</div>"
            ],
            "text/plain": [
              "                                 0             1  ...             3             4\n",
              "date_block_num            0.000000     12.000000  ...      0.000000     12.000000\n",
              "shop_id                   2.000000      2.000000  ...      2.000000      2.000000\n",
              "item_id                  33.000000     33.000000  ...   1007.000000   1007.000000\n",
              "item_price_mean         499.000000    199.000000  ...    449.000000    599.000000\n",
              "item_count_month          1.000000      1.000000  ...      3.000000      1.000000\n",
              "month                     1.000000      1.000000  ...      1.000000      1.000000\n",
              "sum_sales_month_shop   2894.000000   2894.000000  ...   2894.000000   2894.000000\n",
              "item_category_id         37.000000     37.000000  ...     67.000000     67.000000\n",
              "category_month_count  19662.000000  19662.000000  ...   4596.000000   4596.000000\n",
              "item_monthly_count      122.000000    122.000000  ...    127.000000    127.000000\n",
              "1_month_item_cnt          0.000000      1.000000  ...      0.000000      0.000000\n",
              "2_month_item_cnt          0.000000      0.000000  ...      0.000000      0.000000\n",
              "3_month_item_cnt          0.000000      0.000000  ...      1.000000      0.000000\n",
              "shop_id_sum           17293.000000  17293.000000  ...  17293.000000  17293.000000\n",
              "shop_id_mean              0.276454      0.276454  ...      0.276454      0.276454\n",
              "item_id_sum             701.000000    701.000000  ...   1202.000000   1202.000000\n",
              "item_id_mean              1.057315      1.057315  ...      1.762463      1.762463\n",
              "\n",
              "[17 rows x 5 columns]"
            ]
          },
          "metadata": {
            "tags": []
          },
          "execution_count": 151
        }
      ]
    },
    {
      "cell_type": "code",
      "metadata": {
        "id": "Irhh7BbA6dAI",
        "colab_type": "code",
        "colab": {
          "base_uri": "https://localhost:8080/",
          "height": 452
        },
        "outputId": "c7d7aa2b-06a5-43f9-c2b8-aacfa14932e9"
      },
      "source": [
        "train_ds.drop(['date_block_num','shop_id','item_id','item_category_id'],axis=1,inplace=True)\n",
        "train_ds.head().T"
      ],
      "execution_count": 152,
      "outputs": [
        {
          "output_type": "execute_result",
          "data": {
            "text/html": [
              "<div>\n",
              "<style scoped>\n",
              "    .dataframe tbody tr th:only-of-type {\n",
              "        vertical-align: middle;\n",
              "    }\n",
              "\n",
              "    .dataframe tbody tr th {\n",
              "        vertical-align: top;\n",
              "    }\n",
              "\n",
              "    .dataframe thead th {\n",
              "        text-align: right;\n",
              "    }\n",
              "</style>\n",
              "<table border=\"1\" class=\"dataframe\">\n",
              "  <thead>\n",
              "    <tr style=\"text-align: right;\">\n",
              "      <th></th>\n",
              "      <th>0</th>\n",
              "      <th>1</th>\n",
              "      <th>2</th>\n",
              "      <th>3</th>\n",
              "      <th>4</th>\n",
              "    </tr>\n",
              "  </thead>\n",
              "  <tbody>\n",
              "    <tr>\n",
              "      <th>item_price_mean</th>\n",
              "      <td>499.000000</td>\n",
              "      <td>199.000000</td>\n",
              "      <td>600.000000</td>\n",
              "      <td>449.000000</td>\n",
              "      <td>599.000000</td>\n",
              "    </tr>\n",
              "    <tr>\n",
              "      <th>item_count_month</th>\n",
              "      <td>1.000000</td>\n",
              "      <td>1.000000</td>\n",
              "      <td>1.000000</td>\n",
              "      <td>3.000000</td>\n",
              "      <td>1.000000</td>\n",
              "    </tr>\n",
              "    <tr>\n",
              "      <th>month</th>\n",
              "      <td>1.000000</td>\n",
              "      <td>1.000000</td>\n",
              "      <td>1.000000</td>\n",
              "      <td>1.000000</td>\n",
              "      <td>1.000000</td>\n",
              "    </tr>\n",
              "    <tr>\n",
              "      <th>sum_sales_month_shop</th>\n",
              "      <td>2894.000000</td>\n",
              "      <td>2894.000000</td>\n",
              "      <td>2894.000000</td>\n",
              "      <td>2894.000000</td>\n",
              "      <td>2894.000000</td>\n",
              "    </tr>\n",
              "    <tr>\n",
              "      <th>category_month_count</th>\n",
              "      <td>19662.000000</td>\n",
              "      <td>19662.000000</td>\n",
              "      <td>890.000000</td>\n",
              "      <td>4596.000000</td>\n",
              "      <td>4596.000000</td>\n",
              "    </tr>\n",
              "    <tr>\n",
              "      <th>item_monthly_count</th>\n",
              "      <td>122.000000</td>\n",
              "      <td>122.000000</td>\n",
              "      <td>80.000000</td>\n",
              "      <td>127.000000</td>\n",
              "      <td>127.000000</td>\n",
              "    </tr>\n",
              "    <tr>\n",
              "      <th>1_month_item_cnt</th>\n",
              "      <td>0.000000</td>\n",
              "      <td>1.000000</td>\n",
              "      <td>0.000000</td>\n",
              "      <td>0.000000</td>\n",
              "      <td>0.000000</td>\n",
              "    </tr>\n",
              "    <tr>\n",
              "      <th>2_month_item_cnt</th>\n",
              "      <td>0.000000</td>\n",
              "      <td>0.000000</td>\n",
              "      <td>1.000000</td>\n",
              "      <td>0.000000</td>\n",
              "      <td>0.000000</td>\n",
              "    </tr>\n",
              "    <tr>\n",
              "      <th>3_month_item_cnt</th>\n",
              "      <td>0.000000</td>\n",
              "      <td>0.000000</td>\n",
              "      <td>0.000000</td>\n",
              "      <td>1.000000</td>\n",
              "      <td>0.000000</td>\n",
              "    </tr>\n",
              "    <tr>\n",
              "      <th>shop_id_sum</th>\n",
              "      <td>17293.000000</td>\n",
              "      <td>17293.000000</td>\n",
              "      <td>17293.000000</td>\n",
              "      <td>17293.000000</td>\n",
              "      <td>17293.000000</td>\n",
              "    </tr>\n",
              "    <tr>\n",
              "      <th>shop_id_mean</th>\n",
              "      <td>0.276454</td>\n",
              "      <td>0.276454</td>\n",
              "      <td>0.276454</td>\n",
              "      <td>0.276454</td>\n",
              "      <td>0.276454</td>\n",
              "    </tr>\n",
              "    <tr>\n",
              "      <th>item_id_sum</th>\n",
              "      <td>701.000000</td>\n",
              "      <td>701.000000</td>\n",
              "      <td>605.000000</td>\n",
              "      <td>1202.000000</td>\n",
              "      <td>1202.000000</td>\n",
              "    </tr>\n",
              "    <tr>\n",
              "      <th>item_id_mean</th>\n",
              "      <td>1.057315</td>\n",
              "      <td>1.057315</td>\n",
              "      <td>0.969551</td>\n",
              "      <td>1.762463</td>\n",
              "      <td>1.762463</td>\n",
              "    </tr>\n",
              "  </tbody>\n",
              "</table>\n",
              "</div>"
            ],
            "text/plain": [
              "                                 0             1  ...             3             4\n",
              "item_price_mean         499.000000    199.000000  ...    449.000000    599.000000\n",
              "item_count_month          1.000000      1.000000  ...      3.000000      1.000000\n",
              "month                     1.000000      1.000000  ...      1.000000      1.000000\n",
              "sum_sales_month_shop   2894.000000   2894.000000  ...   2894.000000   2894.000000\n",
              "category_month_count  19662.000000  19662.000000  ...   4596.000000   4596.000000\n",
              "item_monthly_count      122.000000    122.000000  ...    127.000000    127.000000\n",
              "1_month_item_cnt          0.000000      1.000000  ...      0.000000      0.000000\n",
              "2_month_item_cnt          0.000000      0.000000  ...      0.000000      0.000000\n",
              "3_month_item_cnt          0.000000      0.000000  ...      1.000000      0.000000\n",
              "shop_id_sum           17293.000000  17293.000000  ...  17293.000000  17293.000000\n",
              "shop_id_mean              0.276454      0.276454  ...      0.276454      0.276454\n",
              "item_id_sum             701.000000    701.000000  ...   1202.000000   1202.000000\n",
              "item_id_mean              1.057315      1.057315  ...      1.762463      1.762463\n",
              "\n",
              "[13 rows x 5 columns]"
            ]
          },
          "metadata": {
            "tags": []
          },
          "execution_count": 152
        }
      ]
    },
    {
      "cell_type": "code",
      "metadata": {
        "id": "UEE_b-ch6c2H",
        "colab_type": "code",
        "colab": {
          "base_uri": "https://localhost:8080/",
          "height": 293
        },
        "outputId": "b4cb85b5-45f6-4520-8056-a9c4e0f5de7c"
      },
      "source": [
        "train_ds['item_count_month'].hist(bins=200)"
      ],
      "execution_count": 153,
      "outputs": [
        {
          "output_type": "execute_result",
          "data": {
            "text/plain": [
              "<matplotlib.axes._subplots.AxesSubplot at 0x7fa18dfa4c50>"
            ]
          },
          "metadata": {
            "tags": []
          },
          "execution_count": 153
        },
        {
          "output_type": "display_data",
          "data": {
            "image/png": "[encoded data removed]",
            "text/plain": [
              "<Figure size 432x288 with 1 Axes>"
            ]
          },
          "metadata": {
            "tags": [],
            "needs_background": "light"
          }
        }
      ]
    },
    {
      "cell_type": "code",
      "metadata": {
        "id": "gK-jqgAM6cjg",
        "colab_type": "code",
        "colab": {
          "base_uri": "https://localhost:8080/",
          "height": 421
        },
        "outputId": "f2da16eb-b802-447a-d780-9852ca828d88"
      },
      "source": [
        "Y = train_ds['item_count_month']\n",
        "train_ds.drop(['item_count_month'],axis=1,inplace=True)\n",
        "train_ds.head().T"
      ],
      "execution_count": 154,
      "outputs": [
        {
          "output_type": "execute_result",
          "data": {
            "text/html": [
              "<div>\n",
              "<style scoped>\n",
              "    .dataframe tbody tr th:only-of-type {\n",
              "        vertical-align: middle;\n",
              "    }\n",
              "\n",
              "    .dataframe tbody tr th {\n",
              "        vertical-align: top;\n",
              "    }\n",
              "\n",
              "    .dataframe thead th {\n",
              "        text-align: right;\n",
              "    }\n",
              "</style>\n",
              "<table border=\"1\" class=\"dataframe\">\n",
              "  <thead>\n",
              "    <tr style=\"text-align: right;\">\n",
              "      <th></th>\n",
              "      <th>0</th>\n",
              "      <th>1</th>\n",
              "      <th>2</th>\n",
              "      <th>3</th>\n",
              "      <th>4</th>\n",
              "    </tr>\n",
              "  </thead>\n",
              "  <tbody>\n",
              "    <tr>\n",
              "      <th>item_price_mean</th>\n",
              "      <td>499.000000</td>\n",
              "      <td>199.000000</td>\n",
              "      <td>600.000000</td>\n",
              "      <td>449.000000</td>\n",
              "      <td>599.000000</td>\n",
              "    </tr>\n",
              "    <tr>\n",
              "      <th>month</th>\n",
              "      <td>1.000000</td>\n",
              "      <td>1.000000</td>\n",
              "      <td>1.000000</td>\n",
              "      <td>1.000000</td>\n",
              "      <td>1.000000</td>\n",
              "    </tr>\n",
              "    <tr>\n",
              "      <th>sum_sales_month_shop</th>\n",
              "      <td>2894.000000</td>\n",
              "      <td>2894.000000</td>\n",
              "      <td>2894.000000</td>\n",
              "      <td>2894.000000</td>\n",
              "      <td>2894.000000</td>\n",
              "    </tr>\n",
              "    <tr>\n",
              "      <th>category_month_count</th>\n",
              "      <td>19662.000000</td>\n",
              "      <td>19662.000000</td>\n",
              "      <td>890.000000</td>\n",
              "      <td>4596.000000</td>\n",
              "      <td>4596.000000</td>\n",
              "    </tr>\n",
              "    <tr>\n",
              "      <th>item_monthly_count</th>\n",
              "      <td>122.000000</td>\n",
              "      <td>122.000000</td>\n",
              "      <td>80.000000</td>\n",
              "      <td>127.000000</td>\n",
              "      <td>127.000000</td>\n",
              "    </tr>\n",
              "    <tr>\n",
              "      <th>1_month_item_cnt</th>\n",
              "      <td>0.000000</td>\n",
              "      <td>1.000000</td>\n",
              "      <td>0.000000</td>\n",
              "      <td>0.000000</td>\n",
              "      <td>0.000000</td>\n",
              "    </tr>\n",
              "    <tr>\n",
              "      <th>2_month_item_cnt</th>\n",
              "      <td>0.000000</td>\n",
              "      <td>0.000000</td>\n",
              "      <td>1.000000</td>\n",
              "      <td>0.000000</td>\n",
              "      <td>0.000000</td>\n",
              "    </tr>\n",
              "    <tr>\n",
              "      <th>3_month_item_cnt</th>\n",
              "      <td>0.000000</td>\n",
              "      <td>0.000000</td>\n",
              "      <td>0.000000</td>\n",
              "      <td>1.000000</td>\n",
              "      <td>0.000000</td>\n",
              "    </tr>\n",
              "    <tr>\n",
              "      <th>shop_id_sum</th>\n",
              "      <td>17293.000000</td>\n",
              "      <td>17293.000000</td>\n",
              "      <td>17293.000000</td>\n",
              "      <td>17293.000000</td>\n",
              "      <td>17293.000000</td>\n",
              "    </tr>\n",
              "    <tr>\n",
              "      <th>shop_id_mean</th>\n",
              "      <td>0.276454</td>\n",
              "      <td>0.276454</td>\n",
              "      <td>0.276454</td>\n",
              "      <td>0.276454</td>\n",
              "      <td>0.276454</td>\n",
              "    </tr>\n",
              "    <tr>\n",
              "      <th>item_id_sum</th>\n",
              "      <td>701.000000</td>\n",
              "      <td>701.000000</td>\n",
              "      <td>605.000000</td>\n",
              "      <td>1202.000000</td>\n",
              "      <td>1202.000000</td>\n",
              "    </tr>\n",
              "    <tr>\n",
              "      <th>item_id_mean</th>\n",
              "      <td>1.057315</td>\n",
              "      <td>1.057315</td>\n",
              "      <td>0.969551</td>\n",
              "      <td>1.762463</td>\n",
              "      <td>1.762463</td>\n",
              "    </tr>\n",
              "  </tbody>\n",
              "</table>\n",
              "</div>"
            ],
            "text/plain": [
              "                                 0             1  ...             3             4\n",
              "item_price_mean         499.000000    199.000000  ...    449.000000    599.000000\n",
              "month                     1.000000      1.000000  ...      1.000000      1.000000\n",
              "sum_sales_month_shop   2894.000000   2894.000000  ...   2894.000000   2894.000000\n",
              "category_month_count  19662.000000  19662.000000  ...   4596.000000   4596.000000\n",
              "item_monthly_count      122.000000    122.000000  ...    127.000000    127.000000\n",
              "1_month_item_cnt          0.000000      1.000000  ...      0.000000      0.000000\n",
              "2_month_item_cnt          0.000000      0.000000  ...      0.000000      0.000000\n",
              "3_month_item_cnt          0.000000      0.000000  ...      1.000000      0.000000\n",
              "shop_id_sum           17293.000000  17293.000000  ...  17293.000000  17293.000000\n",
              "shop_id_mean              0.276454      0.276454  ...      0.276454      0.276454\n",
              "item_id_sum             701.000000    701.000000  ...   1202.000000   1202.000000\n",
              "item_id_mean              1.057315      1.057315  ...      1.762463      1.762463\n",
              "\n",
              "[12 rows x 5 columns]"
            ]
          },
          "metadata": {
            "tags": []
          },
          "execution_count": 154
        }
      ]
    },
    {
      "cell_type": "code",
      "metadata": {
        "id": "2A1MfIiV7ow7",
        "colab_type": "code",
        "colab": {}
      },
      "source": [
        "EPOCHS = 50\n",
        "BATCH_SIZE = 1000\n",
        "VERBOSE = 1\n",
        "NB_CLASSES = 1  # number of outputs = number of digits\n",
        "N_HIDDEN = 200\n",
        "VALIDATION_SPLIT = 0.2 # how much TRAIN is reserved for VALIDATION\n",
        "DROPOUT = 0.2\n",
        "RESHAPED = train_ds.shape[1] # number of features"
      ],
      "execution_count": 0,
      "outputs": []
    },
    {
      "cell_type": "code",
      "metadata": {
        "id": "8HHLYQ0n8CCI",
        "colab_type": "code",
        "colab": {}
      },
      "source": [
        "from tensorflow import keras\n",
        "import tensorflow as tf\n",
        "import numpy as np"
      ],
      "execution_count": 0,
      "outputs": []
    },
    {
      "cell_type": "code",
      "metadata": {
        "id": "HfwtuP_m8B4t",
        "colab_type": "code",
        "colab": {
          "base_uri": "https://localhost:8080/",
          "height": 697
        },
        "outputId": "97a71f96-c062-4af7-8316-724f20716f1f"
      },
      "source": [
        "model = tf.keras.models.Sequential()\n",
        "model.add(keras.layers.Dense(N_HIDDEN,\n",
        "         input_shape=(RESHAPED,),\n",
        "         name='dense_layer', activation='sigmoid'))\n",
        "model.add(keras.layers.BatchNormalization()) \n",
        "model.add(keras.layers.Dropout(DROPOUT))\n",
        "\n",
        "model.add(keras.layers.Dense(N_HIDDEN,\n",
        "         name='dense_layer_2', activation='sigmoid'))\n",
        "model.add(keras.layers.BatchNormalization()) \n",
        "model.add(keras.layers.Dropout(DROPOUT))\n",
        "model.add(keras.layers.Dense(N_HIDDEN,\n",
        "         name='dense_layer_3', activation='sigmoid'))\n",
        "model.add(keras.layers.BatchNormalization()) \n",
        "model.add(keras.layers.Dropout(DROPOUT))\n",
        "model.add(keras.layers.Dense(N_HIDDEN,\n",
        "         name='dense_layer_4', activation='sigmoid'))\n",
        "model.add(keras.layers.BatchNormalization()) \n",
        "model.add(keras.layers.Dropout(DROPOUT))\n",
        "model.add(keras.layers.Dense(N_HIDDEN,\n",
        "         name='dense_layer_5', activation='relu'))\n",
        "model.add(keras.layers.BatchNormalization()) \n",
        "model.add(keras.layers.Dropout(DROPOUT))\n",
        "model.add(keras.layers.Dense(NB_CLASSES,\n",
        "         name='dense_layer_6', activation='linear'))\n",
        "# Summary of the model.\n",
        "model.summary()"
      ],
      "execution_count": 157,
      "outputs": [
        {
          "output_type": "stream",
          "text": [
            "Model: \"sequential_1\"\n",
            "_________________________________________________________________\n",
            "Layer (type)                 Output Shape              Param #   \n",
            "=================================================================\n",
            "dense_layer (Dense)          (None, 200)               2600      \n",
            "_________________________________________________________________\n",
            "batch_normalization_5 (Batch (None, 200)               800       \n",
            "_________________________________________________________________\n",
            "dropout_5 (Dropout)          (None, 200)               0         \n",
            "_________________________________________________________________\n",
            "dense_layer_2 (Dense)        (None, 200)               40200     \n",
            "_________________________________________________________________\n",
            "batch_normalization_6 (Batch (None, 200)               800       \n",
            "_________________________________________________________________\n",
            "dropout_6 (Dropout)          (None, 200)               0         \n",
            "_________________________________________________________________\n",
            "dense_layer_3 (Dense)        (None, 200)               40200     \n",
            "_________________________________________________________________\n",
            "batch_normalization_7 (Batch (None, 200)               800       \n",
            "_________________________________________________________________\n",
            "dropout_7 (Dropout)          (None, 200)               0         \n",
            "_________________________________________________________________\n",
            "dense_layer_4 (Dense)        (None, 200)               40200     \n",
            "_________________________________________________________________\n",
            "batch_normalization_8 (Batch (None, 200)               800       \n",
            "_________________________________________________________________\n",
            "dropout_8 (Dropout)          (None, 200)               0         \n",
            "_________________________________________________________________\n",
            "dense_layer_5 (Dense)        (None, 200)               40200     \n",
            "_________________________________________________________________\n",
            "batch_normalization_9 (Batch (None, 200)               800       \n",
            "_________________________________________________________________\n",
            "dropout_9 (Dropout)          (None, 200)               0         \n",
            "_________________________________________________________________\n",
            "dense_layer_6 (Dense)        (None, 1)                 201       \n",
            "=================================================================\n",
            "Total params: 167,601\n",
            "Trainable params: 165,601\n",
            "Non-trainable params: 2,000\n",
            "_________________________________________________________________\n"
          ],
          "name": "stdout"
        }
      ]
    },
    {
      "cell_type": "code",
      "metadata": {
        "id": "7Yaodxn48BvW",
        "colab_type": "code",
        "colab": {}
      },
      "source": [
        "# Compiling the model.\n",
        "model.compile(optimizer='RMSProp',\n",
        "             loss='mse',\n",
        "             metrics=['mse','mape','accuracy'])"
      ],
      "execution_count": 0,
      "outputs": []
    },
    {
      "cell_type": "code",
      "metadata": {
        "id": "8KqY2Z8X8KhK",
        "colab_type": "code",
        "colab": {
          "base_uri": "https://localhost:8080/",
          "height": 258
        },
        "outputId": "b5f83a97-3653-4a09-d49f-aeedb8768578"
      },
      "source": [
        "# Training the model.\n",
        "model.fit(train_ds, Y,\n",
        "         batch_size=BATCH_SIZE, epochs=EPOCHS,\n",
        "         verbose=VERBOSE, validation_split=VALIDATION_SPLIT,\n",
        "          callbacks=[keras.callbacks.EarlyStopping(patience=4,restore_best_weights=True)])\n",
        "model.save('/content/drive/My Drive/colab/kaggle_future_sale/my_model') "
      ],
      "execution_count": 159,
      "outputs": [
        {
          "output_type": "stream",
          "text": [
            "Epoch 1/50\n",
            "2102/2102 [==============================] - 76s 36ms/step - loss: 1.4721 - mse: 1.4721 - mape: 235039696.0000 - accuracy: 0.7331 - val_loss: 1.4929 - val_mse: 1.4929 - val_mape: 201591072.0000 - val_accuracy: 0.7746\n",
            "Epoch 2/50\n",
            "2102/2102 [==============================] - 79s 38ms/step - loss: 1.4052 - mse: 1.4052 - mape: 201205312.0000 - accuracy: 0.7458 - val_loss: 1.4719 - val_mse: 1.4719 - val_mape: 210216032.0000 - val_accuracy: 0.7587\n",
            "Epoch 3/50\n",
            "2102/2102 [==============================] - 77s 37ms/step - loss: 1.3993 - mse: 1.3993 - mape: 198064848.0000 - accuracy: 0.7489 - val_loss: 1.5186 - val_mse: 1.5186 - val_mape: 242656256.0000 - val_accuracy: 0.7454\n",
            "Epoch 4/50\n",
            "2102/2102 [==============================] - 76s 36ms/step - loss: 1.4030 - mse: 1.4030 - mape: 200157088.0000 - accuracy: 0.7461 - val_loss: 1.4793 - val_mse: 1.4793 - val_mape: 217297280.0000 - val_accuracy: 0.7528\n",
            "Epoch 5/50\n",
            "2102/2102 [==============================] - 77s 37ms/step - loss: 1.4000 - mse: 1.4000 - mape: 199317072.0000 - accuracy: 0.7485 - val_loss: 1.4724 - val_mse: 1.4724 - val_mape: 161978064.0000 - val_accuracy: 0.7965\n",
            "Epoch 6/50\n",
            "2102/2102 [==============================] - 77s 36ms/step - loss: 1.4121 - mse: 1.4121 - mape: 204713264.0000 - accuracy: 0.7428 - val_loss: 1.4872 - val_mse: 1.4872 - val_mape: 256001584.0000 - val_accuracy: 0.7519\n",
            "INFO:tensorflow:Assets written to: /content/drive/My Drive/colab/kaggle_future_sale/my_model/assets\n"
          ],
          "name": "stdout"
        }
      ]
    },
    {
      "cell_type": "code",
      "metadata": {
        "id": "V8KEFe9n_7CJ",
        "colab_type": "code",
        "colab": {
          "base_uri": "https://localhost:8080/",
          "height": 421
        },
        "outputId": "67eea0e6-09cc-4036-ff91-58f9fc8d44e6"
      },
      "source": [
        "train_ds.head().T"
      ],
      "execution_count": 164,
      "outputs": [
        {
          "output_type": "execute_result",
          "data": {
            "text/html": [
              "<div>\n",
              "<style scoped>\n",
              "    .dataframe tbody tr th:only-of-type {\n",
              "        vertical-align: middle;\n",
              "    }\n",
              "\n",
              "    .dataframe tbody tr th {\n",
              "        vertical-align: top;\n",
              "    }\n",
              "\n",
              "    .dataframe thead th {\n",
              "        text-align: right;\n",
              "    }\n",
              "</style>\n",
              "<table border=\"1\" class=\"dataframe\">\n",
              "  <thead>\n",
              "    <tr style=\"text-align: right;\">\n",
              "      <th></th>\n",
              "      <th>0</th>\n",
              "      <th>1</th>\n",
              "      <th>2</th>\n",
              "      <th>3</th>\n",
              "      <th>4</th>\n",
              "    </tr>\n",
              "  </thead>\n",
              "  <tbody>\n",
              "    <tr>\n",
              "      <th>item_price_mean</th>\n",
              "      <td>499.000000</td>\n",
              "      <td>199.000000</td>\n",
              "      <td>600.000000</td>\n",
              "      <td>449.000000</td>\n",
              "      <td>599.000000</td>\n",
              "    </tr>\n",
              "    <tr>\n",
              "      <th>month</th>\n",
              "      <td>1.000000</td>\n",
              "      <td>1.000000</td>\n",
              "      <td>1.000000</td>\n",
              "      <td>1.000000</td>\n",
              "      <td>1.000000</td>\n",
              "    </tr>\n",
              "    <tr>\n",
              "      <th>sum_sales_month_shop</th>\n",
              "      <td>2894.000000</td>\n",
              "      <td>2894.000000</td>\n",
              "      <td>2894.000000</td>\n",
              "      <td>2894.000000</td>\n",
              "      <td>2894.000000</td>\n",
              "    </tr>\n",
              "    <tr>\n",
              "      <th>category_month_count</th>\n",
              "      <td>19662.000000</td>\n",
              "      <td>19662.000000</td>\n",
              "      <td>890.000000</td>\n",
              "      <td>4596.000000</td>\n",
              "      <td>4596.000000</td>\n",
              "    </tr>\n",
              "    <tr>\n",
              "      <th>item_monthly_count</th>\n",
              "      <td>122.000000</td>\n",
              "      <td>122.000000</td>\n",
              "      <td>80.000000</td>\n",
              "      <td>127.000000</td>\n",
              "      <td>127.000000</td>\n",
              "    </tr>\n",
              "    <tr>\n",
              "      <th>1_month_item_cnt</th>\n",
              "      <td>0.000000</td>\n",
              "      <td>1.000000</td>\n",
              "      <td>0.000000</td>\n",
              "      <td>0.000000</td>\n",
              "      <td>0.000000</td>\n",
              "    </tr>\n",
              "    <tr>\n",
              "      <th>2_month_item_cnt</th>\n",
              "      <td>0.000000</td>\n",
              "      <td>0.000000</td>\n",
              "      <td>1.000000</td>\n",
              "      <td>0.000000</td>\n",
              "      <td>0.000000</td>\n",
              "    </tr>\n",
              "    <tr>\n",
              "      <th>3_month_item_cnt</th>\n",
              "      <td>0.000000</td>\n",
              "      <td>0.000000</td>\n",
              "      <td>0.000000</td>\n",
              "      <td>1.000000</td>\n",
              "      <td>0.000000</td>\n",
              "    </tr>\n",
              "    <tr>\n",
              "      <th>shop_id_sum</th>\n",
              "      <td>17293.000000</td>\n",
              "      <td>17293.000000</td>\n",
              "      <td>17293.000000</td>\n",
              "      <td>17293.000000</td>\n",
              "      <td>17293.000000</td>\n",
              "    </tr>\n",
              "    <tr>\n",
              "      <th>shop_id_mean</th>\n",
              "      <td>0.276454</td>\n",
              "      <td>0.276454</td>\n",
              "      <td>0.276454</td>\n",
              "      <td>0.276454</td>\n",
              "      <td>0.276454</td>\n",
              "    </tr>\n",
              "    <tr>\n",
              "      <th>item_id_sum</th>\n",
              "      <td>701.000000</td>\n",
              "      <td>701.000000</td>\n",
              "      <td>605.000000</td>\n",
              "      <td>1202.000000</td>\n",
              "      <td>1202.000000</td>\n",
              "    </tr>\n",
              "    <tr>\n",
              "      <th>item_id_mean</th>\n",
              "      <td>1.057315</td>\n",
              "      <td>1.057315</td>\n",
              "      <td>0.969551</td>\n",
              "      <td>1.762463</td>\n",
              "      <td>1.762463</td>\n",
              "    </tr>\n",
              "  </tbody>\n",
              "</table>\n",
              "</div>"
            ],
            "text/plain": [
              "                                 0             1  ...             3             4\n",
              "item_price_mean         499.000000    199.000000  ...    449.000000    599.000000\n",
              "month                     1.000000      1.000000  ...      1.000000      1.000000\n",
              "sum_sales_month_shop   2894.000000   2894.000000  ...   2894.000000   2894.000000\n",
              "category_month_count  19662.000000  19662.000000  ...   4596.000000   4596.000000\n",
              "item_monthly_count      122.000000    122.000000  ...    127.000000    127.000000\n",
              "1_month_item_cnt          0.000000      1.000000  ...      0.000000      0.000000\n",
              "2_month_item_cnt          0.000000      0.000000  ...      0.000000      0.000000\n",
              "3_month_item_cnt          0.000000      0.000000  ...      1.000000      0.000000\n",
              "shop_id_sum           17293.000000  17293.000000  ...  17293.000000  17293.000000\n",
              "shop_id_mean              0.276454      0.276454  ...      0.276454      0.276454\n",
              "item_id_sum             701.000000    701.000000  ...   1202.000000   1202.000000\n",
              "item_id_mean              1.057315      1.057315  ...      1.762463      1.762463\n",
              "\n",
              "[12 rows x 5 columns]"
            ]
          },
          "metadata": {
            "tags": []
          },
          "execution_count": 164
        }
      ]
    },
    {
      "cell_type": "code",
      "metadata": {
        "id": "-bYAPYvX_6zV",
        "colab_type": "code",
        "colab": {
          "base_uri": "https://localhost:8080/",
          "height": 421
        },
        "outputId": "37a9c066-3efc-4990-b87c-08c014f3b33c"
      },
      "source": [
        "test_ds=test.drop(['ID','shop_id','item_id','date_block_num','item_category_id'],axis=1).copy()\n",
        "test_ds.head().T"
      ],
      "execution_count": 165,
      "outputs": [
        {
          "output_type": "execute_result",
          "data": {
            "text/html": [
              "<div>\n",
              "<style scoped>\n",
              "    .dataframe tbody tr th:only-of-type {\n",
              "        vertical-align: middle;\n",
              "    }\n",
              "\n",
              "    .dataframe tbody tr th {\n",
              "        vertical-align: top;\n",
              "    }\n",
              "\n",
              "    .dataframe thead th {\n",
              "        text-align: right;\n",
              "    }\n",
              "</style>\n",
              "<table border=\"1\" class=\"dataframe\">\n",
              "  <thead>\n",
              "    <tr style=\"text-align: right;\">\n",
              "      <th></th>\n",
              "      <th>0</th>\n",
              "      <th>1</th>\n",
              "      <th>2</th>\n",
              "      <th>3</th>\n",
              "      <th>4</th>\n",
              "    </tr>\n",
              "  </thead>\n",
              "  <tbody>\n",
              "    <tr>\n",
              "      <th>month</th>\n",
              "      <td>11.000000</td>\n",
              "      <td>11.000000</td>\n",
              "      <td>11.000000</td>\n",
              "      <td>11.000000</td>\n",
              "      <td>11.000000</td>\n",
              "    </tr>\n",
              "    <tr>\n",
              "      <th>item_price_mean</th>\n",
              "      <td>2599.000000</td>\n",
              "      <td>98.000000</td>\n",
              "      <td>98.000000</td>\n",
              "      <td>450.000000</td>\n",
              "      <td>450.000000</td>\n",
              "    </tr>\n",
              "    <tr>\n",
              "      <th>sum_sales_month_shop</th>\n",
              "      <td>1045.000000</td>\n",
              "      <td>1045.000000</td>\n",
              "      <td>1045.000000</td>\n",
              "      <td>1045.000000</td>\n",
              "      <td>1045.000000</td>\n",
              "    </tr>\n",
              "    <tr>\n",
              "      <th>category_month_count</th>\n",
              "      <td>5177.000000</td>\n",
              "      <td>9863.000000</td>\n",
              "      <td>5177.000000</td>\n",
              "      <td>4561.000000</td>\n",
              "      <td>3191.000000</td>\n",
              "    </tr>\n",
              "    <tr>\n",
              "      <th>item_monthly_count</th>\n",
              "      <td>52.000000</td>\n",
              "      <td>0.000000</td>\n",
              "      <td>0.000000</td>\n",
              "      <td>0.000000</td>\n",
              "      <td>0.000000</td>\n",
              "    </tr>\n",
              "    <tr>\n",
              "      <th>1_month_item_cnt</th>\n",
              "      <td>0.000000</td>\n",
              "      <td>0.000000</td>\n",
              "      <td>1.000000</td>\n",
              "      <td>0.000000</td>\n",
              "      <td>0.000000</td>\n",
              "    </tr>\n",
              "    <tr>\n",
              "      <th>2_month_item_cnt</th>\n",
              "      <td>2.000000</td>\n",
              "      <td>0.000000</td>\n",
              "      <td>3.000000</td>\n",
              "      <td>0.000000</td>\n",
              "      <td>0.000000</td>\n",
              "    </tr>\n",
              "    <tr>\n",
              "      <th>3_month_item_cnt</th>\n",
              "      <td>3.000000</td>\n",
              "      <td>0.000000</td>\n",
              "      <td>1.000000</td>\n",
              "      <td>1.000000</td>\n",
              "      <td>0.000000</td>\n",
              "    </tr>\n",
              "    <tr>\n",
              "      <th>shop_id_sum</th>\n",
              "      <td>18416.000000</td>\n",
              "      <td>18416.000000</td>\n",
              "      <td>18416.000000</td>\n",
              "      <td>18416.000000</td>\n",
              "      <td>18416.000000</td>\n",
              "    </tr>\n",
              "    <tr>\n",
              "      <th>shop_id_mean</th>\n",
              "      <td>0.301916</td>\n",
              "      <td>0.301916</td>\n",
              "      <td>0.301916</td>\n",
              "      <td>0.301916</td>\n",
              "      <td>0.301916</td>\n",
              "    </tr>\n",
              "    <tr>\n",
              "      <th>item_id_sum</th>\n",
              "      <td>1062.000000</td>\n",
              "      <td>0.000000</td>\n",
              "      <td>459.000000</td>\n",
              "      <td>137.000000</td>\n",
              "      <td>0.000000</td>\n",
              "    </tr>\n",
              "    <tr>\n",
              "      <th>item_id_mean</th>\n",
              "      <td>2.046243</td>\n",
              "      <td>0.000000</td>\n",
              "      <td>0.929150</td>\n",
              "      <td>0.273453</td>\n",
              "      <td>0.000000</td>\n",
              "    </tr>\n",
              "  </tbody>\n",
              "</table>\n",
              "</div>"
            ],
            "text/plain": [
              "                                 0             1  ...             3             4\n",
              "month                    11.000000     11.000000  ...     11.000000     11.000000\n",
              "item_price_mean        2599.000000     98.000000  ...    450.000000    450.000000\n",
              "sum_sales_month_shop   1045.000000   1045.000000  ...   1045.000000   1045.000000\n",
              "category_month_count   5177.000000   9863.000000  ...   4561.000000   3191.000000\n",
              "item_monthly_count       52.000000      0.000000  ...      0.000000      0.000000\n",
              "1_month_item_cnt          0.000000      0.000000  ...      0.000000      0.000000\n",
              "2_month_item_cnt          2.000000      0.000000  ...      0.000000      0.000000\n",
              "3_month_item_cnt          3.000000      0.000000  ...      1.000000      0.000000\n",
              "shop_id_sum           18416.000000  18416.000000  ...  18416.000000  18416.000000\n",
              "shop_id_mean              0.301916      0.301916  ...      0.301916      0.301916\n",
              "item_id_sum            1062.000000      0.000000  ...    137.000000      0.000000\n",
              "item_id_mean              2.046243      0.000000  ...      0.273453      0.000000\n",
              "\n",
              "[12 rows x 5 columns]"
            ]
          },
          "metadata": {
            "tags": []
          },
          "execution_count": 165
        }
      ]
    },
    {
      "cell_type": "code",
      "metadata": {
        "id": "3HwaZx13G7Mh",
        "colab_type": "code",
        "colab": {}
      },
      "source": [
        ""
      ],
      "execution_count": 0,
      "outputs": []
    },
    {
      "cell_type": "code",
      "metadata": {
        "id": "7EQhFaqc_6gf",
        "colab_type": "code",
        "colab": {}
      },
      "source": [
        "results = model.predict(test_ds)"
      ],
      "execution_count": 0,
      "outputs": []
    },
    {
      "cell_type": "code",
      "metadata": {
        "id": "qYiAwgPTG8DD",
        "colab_type": "code",
        "colab": {
          "base_uri": "https://localhost:8080/",
          "height": 34
        },
        "outputId": "d669e8d5-5f6c-44c0-f2c7-6ffaeb6635c7"
      },
      "source": [
        "any(np.isnan(results))"
      ],
      "execution_count": 202,
      "outputs": [
        {
          "output_type": "execute_result",
          "data": {
            "text/plain": [
              "True"
            ]
          },
          "metadata": {
            "tags": []
          },
          "execution_count": 202
        }
      ]
    },
    {
      "cell_type": "code",
      "metadata": {
        "id": "u1VGPEMMAkZt",
        "colab_type": "code",
        "colab": {}
      },
      "source": [
        "submission.loc[:,'item_cnt_month']=list(results)"
      ],
      "execution_count": 0,
      "outputs": []
    },
    {
      "cell_type": "code",
      "metadata": {
        "id": "Gr5HIiHYFEPu",
        "colab_type": "code",
        "colab": {}
      },
      "source": [
        "submission.fillna(submission['item_cnt_month'].dropna().median(),inplace=True)"
      ],
      "execution_count": 0,
      "outputs": []
    },
    {
      "cell_type": "code",
      "metadata": {
        "id": "tE6d81kRAzfV",
        "colab_type": "code",
        "colab": {
          "base_uri": "https://localhost:8080/",
          "height": 282
        },
        "outputId": "61f6c486-922b-4dbe-c205-22cc05fbe398"
      },
      "source": [
        "# submission['item_cnt_month'] = submission['item_cnt_month'].clip(0,20)\n",
        "submission['item_cnt_month'].hist()"
      ],
      "execution_count": 205,
      "outputs": [
        {
          "output_type": "execute_result",
          "data": {
            "text/plain": [
              "<matplotlib.axes._subplots.AxesSubplot at 0x7fa1916fe5c0>"
            ]
          },
          "metadata": {
            "tags": []
          },
          "execution_count": 205
        },
        {
          "output_type": "display_data",
          "data": {
            "image/png": "[encoded data removed]",
            "text/plain": [
              "<Figure size 432x288 with 1 Axes>"
            ]
          },
          "metadata": {
            "tags": [],
            "needs_background": "light"
          }
        }
      ]
    },
    {
      "cell_type": "code",
      "metadata": {
        "id": "Kw5TA4QPF8h2",
        "colab_type": "code",
        "colab": {
          "base_uri": "https://localhost:8080/",
          "height": 34
        },
        "outputId": "42dd8a8e-774a-4763-9ffe-ad331f0edad7"
      },
      "source": [
        "len(results)"
      ],
      "execution_count": 175,
      "outputs": [
        {
          "output_type": "execute_result",
          "data": {
            "text/plain": [
              "214200"
            ]
          },
          "metadata": {
            "tags": []
          },
          "execution_count": 175
        }
      ]
    },
    {
      "cell_type": "code",
      "metadata": {
        "id": "kw87JKmvBMbc",
        "colab_type": "code",
        "colab": {}
      },
      "source": [
        "from google.colab import files\n",
        "submission.to_csv('submission_113.csv',sep=',',index=False) \n",
        "files.download('submission_113.csv')"
      ],
      "execution_count": 0,
      "outputs": []
    },
    {
      "cell_type": "code",
      "metadata": {
        "id": "8EdYVPpl0nZN",
        "colab_type": "code",
        "colab": {}
      },
      "source": [
        "from sklearn import ensemble\n",
        "gb = ensemble.GradientBoostingRegressor(n_estimators=10)"
      ],
      "execution_count": 0,
      "outputs": []
    },
    {
      "cell_type": "code",
      "metadata": {
        "id": "pO4VVY6qA6yM",
        "colab_type": "code",
        "colab": {
          "base_uri": "https://localhost:8080/",
          "height": 34
        },
        "outputId": "6ed1f12a-822b-4ed0-8923-fcb1a38309a8"
      },
      "source": [
        "len(train_ds.columns)"
      ],
      "execution_count": 134,
      "outputs": [
        {
          "output_type": "execute_result",
          "data": {
            "text/plain": [
              "17"
            ]
          },
          "metadata": {
            "tags": []
          },
          "execution_count": 134
        }
      ]
    },
    {
      "cell_type": "code",
      "metadata": {
        "id": "tvczxx3q2y-j",
        "colab_type": "code",
        "colab": {
          "base_uri": "https://localhost:8080/",
          "height": 170
        },
        "outputId": "acd62f87-2494-4683-fcef-5a69f1b51a2b"
      },
      "source": [
        "gb.fit(train_ds.drop(['item_count_month'],axis=1), train_ds['item_count_month'])"
      ],
      "execution_count": 135,
      "outputs": [
        {
          "output_type": "execute_result",
          "data": {
            "text/plain": [
              "GradientBoostingRegressor(alpha=0.9, ccp_alpha=0.0, criterion='friedman_mse',\n",
              "                          init=None, learning_rate=0.1, loss='ls', max_depth=3,\n",
              "                          max_features=None, max_leaf_nodes=None,\n",
              "                          min_impurity_decrease=0.0, min_impurity_split=None,\n",
              "                          min_samples_leaf=1, min_samples_split=2,\n",
              "                          min_weight_fraction_leaf=0.0, n_estimators=10,\n",
              "                          n_iter_no_change=None, presort='deprecated',\n",
              "                          random_state=None, subsample=1.0, tol=0.0001,\n",
              "                          validation_fraction=0.1, verbose=0, warm_start=False)"
            ]
          },
          "metadata": {
            "tags": []
          },
          "execution_count": 135
        }
      ]
    },
    {
      "cell_type": "code",
      "metadata": {
        "id": "n07NEl-A3MJA",
        "colab_type": "code",
        "colab": {
          "base_uri": "https://localhost:8080/",
          "height": 809
        },
        "outputId": "e4bd6151-5734-44fd-bfd0-76976f51c00d"
      },
      "source": [
        "plt.bar(range(train_ds.drop(['item_count_month'],axis=1).shape[1]), gb.feature_importances_)\n",
        "plt.xticks(range(train_ds.drop(['item_count_month'],axis=1).shape[1]), ['1','2','3','4',\n",
        "                                                                                 '5','6','7',\n",
        "                                                                                 '8','9','10','11','12','13','14','15','16'])"
      ],
      "execution_count": 136,
      "outputs": [
        {
          "output_type": "execute_result",
          "data": {
            "text/plain": [
              "([<matplotlib.axis.XTick at 0x7f0628691978>,\n",
              "  <matplotlib.axis.XTick at 0x7f0628691898>,\n",
              "  <matplotlib.axis.XTick at 0x7f06286916d8>,\n",
              "  <matplotlib.axis.XTick at 0x7f06150ab550>,\n",
              "  <matplotlib.axis.XTick at 0x7f06287aaef0>,\n",
              "  <matplotlib.axis.XTick at 0x7f061502a128>,\n",
              "  <matplotlib.axis.XTick at 0x7f061502a9e8>,\n",
              "  <matplotlib.axis.XTick at 0x7f061502aac8>,\n",
              "  <matplotlib.axis.XTick at 0x7f0615055048>,\n",
              "  <matplotlib.axis.XTick at 0x7f0615055be0>,\n",
              "  <matplotlib.axis.XTick at 0x7f0615055898>,\n",
              "  <matplotlib.axis.XTick at 0x7f0615140eb8>,\n",
              "  <matplotlib.axis.XTick at 0x7f06151405f8>,\n",
              "  <matplotlib.axis.XTick at 0x7f06150550f0>,\n",
              "  <matplotlib.axis.XTick at 0x7f061502ab00>,\n",
              "  <matplotlib.axis.XTick at 0x7f0615140828>],\n",
              " [Text(0, 0, '1'),\n",
              "  Text(0, 0, '2'),\n",
              "  Text(0, 0, '3'),\n",
              "  Text(0, 0, '4'),\n",
              "  Text(0, 0, '5'),\n",
              "  Text(0, 0, '6'),\n",
              "  Text(0, 0, '7'),\n",
              "  Text(0, 0, '8'),\n",
              "  Text(0, 0, '9'),\n",
              "  Text(0, 0, '10'),\n",
              "  Text(0, 0, '11'),\n",
              "  Text(0, 0, '12'),\n",
              "  Text(0, 0, '13'),\n",
              "  Text(0, 0, '14'),\n",
              "  Text(0, 0, '15'),\n",
              "  Text(0, 0, '16')])"
            ]
          },
          "metadata": {
            "tags": []
          },
          "execution_count": 136
        },
        {
          "output_type": "display_data",
          "data": {
            "image/png": "[encoded data removed]",
            "text/plain": [
              "<Figure size 432x288 with 1 Axes>"
            ]
          },
          "metadata": {
            "tags": [],
            "needs_background": "light"
          }
        }
      ]
    },
    {
      "cell_type": "code",
      "metadata": {
        "id": "fVVD4UaG5tym",
        "colab_type": "code",
        "colab": {
          "base_uri": "https://localhost:8080/",
          "height": 51
        },
        "outputId": "2058b6a7-b9af-4e27-841b-2e7d7bbb4220"
      },
      "source": [
        "gb.feature_importances_"
      ],
      "execution_count": 54,
      "outputs": [
        {
          "output_type": "execute_result",
          "data": {
            "text/plain": [
              "array([0.0211514 , 0.        , 0.        , 0.        , 0.001945  ,\n",
              "       0.17375186, 0.        , 0.        , 0.80315174])"
            ]
          },
          "metadata": {
            "tags": []
          },
          "execution_count": 54
        }
      ]
    },
    {
      "cell_type": "code",
      "metadata": {
        "id": "i0ykcWIs54WU",
        "colab_type": "code",
        "colab": {}
      },
      "source": [
        ""
      ],
      "execution_count": 0,
      "outputs": []
    }
  ]
}